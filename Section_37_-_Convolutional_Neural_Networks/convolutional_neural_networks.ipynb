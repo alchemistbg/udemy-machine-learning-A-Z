{
 "cells": [
  {
   "cell_type": "markdown",
   "id": "c54048e1",
   "metadata": {},
   "source": [
    "# Convolutional Neural Networks"
   ]
  },
  {
   "cell_type": "markdown",
   "id": "3eb50964",
   "metadata": {},
   "source": [
    "## Importing the libraries"
   ]
  },
  {
   "cell_type": "code",
   "execution_count": 1,
   "id": "35eeda22",
   "metadata": {},
   "outputs": [],
   "source": [
    "# The following will disable calculations on GPU\n",
    "# import os\n",
    "# os.environ[\"CUDA_VISIBLE_DEVICES\"]=\"-1\"  \n",
    "\n",
    "import tensorflow as tf\n",
    "from keras.preprocessing.image import ImageDataGenerator"
   ]
  },
  {
   "cell_type": "code",
   "execution_count": 2,
   "id": "3814e746",
   "metadata": {},
   "outputs": [
    {
     "name": "stdout",
     "output_type": "stream",
     "text": [
      "2.10.1\n",
      "Devices:\n",
      "  PhysicalDevice(name='/physical_device:CPU:0', device_type='CPU')\n",
      "  PhysicalDevice(name='/physical_device:GPU:0', device_type='GPU')\n"
     ]
    }
   ],
   "source": [
    "print(tf.__version__)\n",
    "print(\"Devices:\")\n",
    "for device in tf.config.list_physical_devices():\n",
    "    print(f'  {device}')"
   ]
  },
  {
   "cell_type": "markdown",
   "id": "83e92224",
   "metadata": {},
   "source": [
    "## Part 1 - Data Preprocessing"
   ]
  },
  {
   "cell_type": "markdown",
   "id": "08486f9f",
   "metadata": {},
   "source": [
    "### 1. Preprocessing the training set"
   ]
  },
  {
   "cell_type": "code",
   "execution_count": 3,
   "id": "0d2d2488",
   "metadata": {},
   "outputs": [
    {
     "name": "stdout",
     "output_type": "stream",
     "text": [
      "Found 8000 images belonging to 2 classes.\n"
     ]
    }
   ],
   "source": [
    "# API for this module and everything is in tf.keras\n",
    "\n",
    "train_datagen = ImageDataGenerator(\n",
    "    rescale = 1./255,\n",
    "    shear_range = 0.2,\n",
    "    zoom_range = 0.2,\n",
    "    horizontal_flip = True\n",
    ")\n",
    "\n",
    "train_set = train_datagen.flow_from_directory(\n",
    "    'dataset/train_set',\n",
    "    target_size = (64, 64),\n",
    "    batch_size = 32,\n",
    "    class_mode = 'binary'\n",
    ")"
   ]
  },
  {
   "cell_type": "markdown",
   "id": "d7194575",
   "metadata": {},
   "source": [
    "### 2. Preprocessing the test set"
   ]
  },
  {
   "cell_type": "code",
   "execution_count": 4,
   "id": "37e2e415",
   "metadata": {},
   "outputs": [
    {
     "name": "stdout",
     "output_type": "stream",
     "text": [
      "Found 2000 images belonging to 2 classes.\n"
     ]
    }
   ],
   "source": [
    "test_datagen = ImageDataGenerator(\n",
    "    rescale = 1./255\n",
    ")\n",
    "\n",
    "test_set = test_datagen.flow_from_directory(\n",
    "    'dataset/test_set',\n",
    "    target_size = (64, 64),\n",
    "    batch_size = 32,\n",
    "    class_mode = 'binary'\n",
    ")"
   ]
  },
  {
   "cell_type": "markdown",
   "id": "e2c8d5bc",
   "metadata": {},
   "source": [
    "## Part 2 - Building the CNN"
   ]
  },
  {
   "cell_type": "markdown",
   "id": "43a4c503",
   "metadata": {},
   "source": [
    "### 1. Initializing the CNN"
   ]
  },
  {
   "cell_type": "code",
   "execution_count": 5,
   "id": "84e53e07",
   "metadata": {},
   "outputs": [],
   "source": [
    "cnn = tf.keras.models.Sequential()"
   ]
  },
  {
   "cell_type": "markdown",
   "id": "ab60cf11",
   "metadata": {},
   "source": [
    "### 2. Adding a first convolution layer"
   ]
  },
  {
   "cell_type": "code",
   "execution_count": 6,
   "id": "e4014111",
   "metadata": {},
   "outputs": [],
   "source": [
    "cnn.add(tf.keras.layers.Conv2D(\n",
    "    filters = 32,\n",
    "    kernel_size = 3,\n",
    "    activation = 'relu',\n",
    "    input_shape = [64, 64, 3]\n",
    "))"
   ]
  },
  {
   "cell_type": "markdown",
   "id": "eb220abc",
   "metadata": {},
   "source": [
    "### 3. Adding a second pooling layer"
   ]
  },
  {
   "cell_type": "code",
   "execution_count": 7,
   "id": "39212e0d",
   "metadata": {},
   "outputs": [],
   "source": [
    "cnn.add(tf.keras.layers.MaxPool2D(\n",
    "    pool_size = 2,\n",
    "    strides = 2\n",
    "))"
   ]
  },
  {
   "cell_type": "markdown",
   "id": "83ba1a32",
   "metadata": {},
   "source": [
    "### 4. Adding a secong convolution layer"
   ]
  },
  {
   "cell_type": "code",
   "execution_count": 8,
   "id": "d1f600fd",
   "metadata": {},
   "outputs": [],
   "source": [
    "cnn.add(tf.keras.layers.Conv2D(\n",
    "    filters = 32,\n",
    "    kernel_size = 3,\n",
    "    activation = 'relu',\n",
    "    input_shape = [64, 64, 3]\n",
    "))"
   ]
  },
  {
   "cell_type": "markdown",
   "id": "ba83c0b4",
   "metadata": {},
   "source": [
    "### 5. Adding a second pooling layer"
   ]
  },
  {
   "cell_type": "code",
   "execution_count": 9,
   "id": "3b8ba9f0",
   "metadata": {},
   "outputs": [],
   "source": [
    "cnn.add(tf.keras.layers.MaxPool2D(\n",
    "    pool_size = 2,\n",
    "    strides = 2\n",
    "))"
   ]
  },
  {
   "cell_type": "markdown",
   "id": "dc60f09a",
   "metadata": {},
   "source": [
    "### 6. Flattening"
   ]
  },
  {
   "cell_type": "code",
   "execution_count": 10,
   "id": "2bd342e9",
   "metadata": {},
   "outputs": [],
   "source": [
    "cnn.add(tf.keras.layers.Flatten())"
   ]
  },
  {
   "cell_type": "markdown",
   "id": "21f81df6",
   "metadata": {},
   "source": [
    "### 7. Full connection"
   ]
  },
  {
   "cell_type": "code",
   "execution_count": 11,
   "id": "1d399499",
   "metadata": {},
   "outputs": [],
   "source": [
    "cnn.add(tf.keras.layers.Dense(units = 128, activation = 'relu'))"
   ]
  },
  {
   "cell_type": "markdown",
   "id": "b910076f",
   "metadata": {},
   "source": [
    "### 8. Adding an output layer"
   ]
  },
  {
   "cell_type": "code",
   "execution_count": 12,
   "id": "cea5e1d6",
   "metadata": {},
   "outputs": [],
   "source": [
    "cnn.add(tf.keras.layers.Dense(units = 1, activation = 'sigmoid'))"
   ]
  },
  {
   "cell_type": "markdown",
   "id": "6a943b92",
   "metadata": {},
   "source": [
    "## Part 3 - Training the CNN"
   ]
  },
  {
   "cell_type": "markdown",
   "id": "06387f6b",
   "metadata": {},
   "source": [
    "### 1. Compiling the CNN"
   ]
  },
  {
   "cell_type": "code",
   "execution_count": 13,
   "id": "dc770cbd",
   "metadata": {},
   "outputs": [],
   "source": [
    "cnn.compile(optimizer = 'adam', loss = 'binary_crossentropy', metrics = ['accuracy'])"
   ]
  },
  {
   "cell_type": "markdown",
   "id": "7cf50a37",
   "metadata": {},
   "source": [
    "### 2. Train the CNN on the train set and evaluating on the test set"
   ]
  },
  {
   "cell_type": "code",
   "execution_count": 14,
   "id": "0ea12b34",
   "metadata": {},
   "outputs": [
    {
     "name": "stdout",
     "output_type": "stream",
     "text": [
      "Epoch 1/25\n",
      "250/250 [==============================] - 17s 53ms/step - loss: 0.6648 - accuracy: 0.6018 - val_loss: 0.5916 - val_accuracy: 0.6945\n",
      "Epoch 2/25\n",
      "250/250 [==============================] - 10s 41ms/step - loss: 0.5928 - accuracy: 0.6865 - val_loss: 0.5659 - val_accuracy: 0.7035\n",
      "Epoch 3/25\n",
      "250/250 [==============================] - 10s 42ms/step - loss: 0.5533 - accuracy: 0.7154 - val_loss: 0.5255 - val_accuracy: 0.7415\n",
      "Epoch 4/25\n",
      "250/250 [==============================] - 10s 40ms/step - loss: 0.5247 - accuracy: 0.7361 - val_loss: 0.5103 - val_accuracy: 0.7595\n",
      "Epoch 5/25\n",
      "250/250 [==============================] - 10s 41ms/step - loss: 0.5093 - accuracy: 0.7513 - val_loss: 0.5133 - val_accuracy: 0.7580\n",
      "Epoch 6/25\n",
      "250/250 [==============================] - 10s 41ms/step - loss: 0.4939 - accuracy: 0.7571 - val_loss: 0.5371 - val_accuracy: 0.7320\n",
      "Epoch 7/25\n",
      "250/250 [==============================] - 10s 41ms/step - loss: 0.4690 - accuracy: 0.7729 - val_loss: 0.4956 - val_accuracy: 0.7775\n",
      "Epoch 8/25\n",
      "250/250 [==============================] - 11s 44ms/step - loss: 0.4538 - accuracy: 0.7814 - val_loss: 0.4764 - val_accuracy: 0.7810\n",
      "Epoch 9/25\n",
      "250/250 [==============================] - 11s 42ms/step - loss: 0.4434 - accuracy: 0.7871 - val_loss: 0.4767 - val_accuracy: 0.7750\n",
      "Epoch 10/25\n",
      "250/250 [==============================] - 10s 40ms/step - loss: 0.4198 - accuracy: 0.8033 - val_loss: 0.5230 - val_accuracy: 0.7515\n",
      "Epoch 11/25\n",
      "250/250 [==============================] - 10s 40ms/step - loss: 0.4098 - accuracy: 0.8058 - val_loss: 0.4810 - val_accuracy: 0.7880\n",
      "Epoch 12/25\n",
      "250/250 [==============================] - 10s 39ms/step - loss: 0.4026 - accuracy: 0.8152 - val_loss: 0.4920 - val_accuracy: 0.7825\n",
      "Epoch 13/25\n",
      "250/250 [==============================] - 10s 39ms/step - loss: 0.3903 - accuracy: 0.8232 - val_loss: 0.4548 - val_accuracy: 0.8015\n",
      "Epoch 14/25\n",
      "250/250 [==============================] - 10s 39ms/step - loss: 0.3745 - accuracy: 0.8265 - val_loss: 0.5377 - val_accuracy: 0.7755\n",
      "Epoch 15/25\n",
      "250/250 [==============================] - 10s 41ms/step - loss: 0.3553 - accuracy: 0.8400 - val_loss: 0.4457 - val_accuracy: 0.8110\n",
      "Epoch 16/25\n",
      "250/250 [==============================] - 10s 39ms/step - loss: 0.3516 - accuracy: 0.8440 - val_loss: 0.4635 - val_accuracy: 0.8005\n",
      "Epoch 17/25\n",
      "250/250 [==============================] - 10s 40ms/step - loss: 0.3379 - accuracy: 0.8512 - val_loss: 0.4789 - val_accuracy: 0.8115\n",
      "Epoch 18/25\n",
      "250/250 [==============================] - 10s 39ms/step - loss: 0.3316 - accuracy: 0.8585 - val_loss: 0.4807 - val_accuracy: 0.8030\n",
      "Epoch 19/25\n",
      "250/250 [==============================] - 10s 41ms/step - loss: 0.3117 - accuracy: 0.8618 - val_loss: 0.4732 - val_accuracy: 0.8115\n",
      "Epoch 20/25\n",
      "250/250 [==============================] - 10s 39ms/step - loss: 0.3008 - accuracy: 0.8654 - val_loss: 0.5144 - val_accuracy: 0.7890\n",
      "Epoch 21/25\n",
      "250/250 [==============================] - 10s 38ms/step - loss: 0.2847 - accuracy: 0.8781 - val_loss: 0.5512 - val_accuracy: 0.7720\n",
      "Epoch 22/25\n",
      "250/250 [==============================] - 10s 38ms/step - loss: 0.2827 - accuracy: 0.8799 - val_loss: 0.4917 - val_accuracy: 0.8000\n",
      "Epoch 23/25\n",
      "250/250 [==============================] - 10s 39ms/step - loss: 0.2584 - accuracy: 0.8939 - val_loss: 0.5047 - val_accuracy: 0.7880\n",
      "Epoch 24/25\n",
      "250/250 [==============================] - 10s 38ms/step - loss: 0.2508 - accuracy: 0.8960 - val_loss: 0.5594 - val_accuracy: 0.7990\n",
      "Epoch 25/25\n",
      "250/250 [==============================] - 10s 40ms/step - loss: 0.2417 - accuracy: 0.9014 - val_loss: 0.5336 - val_accuracy: 0.8040\n"
     ]
    },
    {
     "data": {
      "text/plain": [
       "<keras.callbacks.History at 0x1cb09813100>"
      ]
     },
     "execution_count": 14,
     "metadata": {},
     "output_type": "execute_result"
    }
   ],
   "source": [
    "cnn.fit(x = train_set, validation_data = test_set, epochs = 25)"
   ]
  },
  {
   "cell_type": "markdown",
   "id": "014869d7",
   "metadata": {},
   "source": [
    "## Part 4 - Making a single prediction"
   ]
  },
  {
   "cell_type": "markdown",
   "id": "d4dd6314",
   "metadata": {},
   "source": [
    "### 1. Importing the libraries"
   ]
  },
  {
   "cell_type": "code",
   "execution_count": 19,
   "id": "5cfd575b",
   "metadata": {},
   "outputs": [],
   "source": [
    "import numpy as np\n",
    "# from keras.preprocessing import image\n",
    "import keras.utils as image"
   ]
  },
  {
   "cell_type": "markdown",
   "id": "64888100",
   "metadata": {},
   "source": [
    "### 2. Loading and converting image"
   ]
  },
  {
   "cell_type": "code",
   "execution_count": 20,
   "id": "f062ac11",
   "metadata": {},
   "outputs": [
    {
     "name": "stdout",
     "output_type": "stream",
     "text": [
      "1/1 [==============================] - 0s 11ms/step\n",
      "This picture shows: cat\n"
     ]
    }
   ],
   "source": [
    "# test_image = image.load_img('dataset/single_prediction/cat_or_dog_1.jpg', target_size = (64, 64))\n",
    "# test_image = image.load_img('dataset/single_prediction/cat_or_dog_2.jpg', target_size = (64, 64))\n",
    "# test_image = image.load_img('dataset/single_prediction/cat_or_dog_3.jpg', target_size = (64, 64))\n",
    "test_image = image.load_img('dataset/single_prediction/cat_or_dog_4.jpg', target_size = (64, 64))\n",
    "test_image = image.img_to_array(test_image)\n",
    "test_image = np.expand_dims(test_image, axis = 0)\n",
    "result = cnn.predict(test_image)\n",
    "train_set.class_indices\n",
    "if result[0][0] == 1:\n",
    "    prediction = 'dog'\n",
    "else:\n",
    "    prediction = 'cat'\n",
    "print(f'This picture shows: {prediction}')"
   ]
  }
 ],
 "metadata": {
  "kernelspec": {
   "display_name": "Python 3 (ipykernel)",
   "language": "python",
   "name": "python3"
  },
  "language_info": {
   "codemirror_mode": {
    "name": "ipython",
    "version": 3
   },
   "file_extension": ".py",
   "mimetype": "text/x-python",
   "name": "python",
   "nbconvert_exporter": "python",
   "pygments_lexer": "ipython3",
   "version": "3.9.16"
  }
 },
 "nbformat": 4,
 "nbformat_minor": 5
}
