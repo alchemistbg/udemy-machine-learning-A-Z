{
 "cells": [
  {
   "cell_type": "markdown",
   "id": "22423fce",
   "metadata": {},
   "source": [
    "# Reinforcement Learning - Upper Confidence Bound (UCB)"
   ]
  },
  {
   "cell_type": "markdown",
   "id": "c742ca2c",
   "metadata": {},
   "source": [
    "## Importing the libraries"
   ]
  },
  {
   "cell_type": "code",
   "execution_count": 1,
   "id": "df9f8cce",
   "metadata": {},
   "outputs": [],
   "source": [
    "import numpy as np\n",
    "import matplotlib.pyplot as plt\n",
    "import pandas as pd"
   ]
  },
  {
   "cell_type": "markdown",
   "id": "f83b71eb",
   "metadata": {},
   "source": [
    "## Importing the dataset"
   ]
  },
  {
   "cell_type": "code",
   "execution_count": 2,
   "id": "dcd87e72",
   "metadata": {},
   "outputs": [
    {
     "name": "stdout",
     "output_type": "stream",
     "text": [
      "10\n"
     ]
    }
   ],
   "source": [
    "dataset = pd.read_csv('Ads_CTR_Optimisation.csv')\n",
    "print(dataset.shape[1])"
   ]
  },
  {
   "cell_type": "markdown",
   "id": "46d9aa77",
   "metadata": {},
   "source": [
    "## Implementing the UCB algorithm"
   ]
  },
  {
   "cell_type": "code",
   "execution_count": 97,
   "id": "9a05d843",
   "metadata": {},
   "outputs": [],
   "source": [
    "# This is my attemt to implement the UCB algorithm. It is not going good, nut I will come back to it later\n",
    "# import math\n",
    "\n",
    "# rows = dataset.shape[0]\n",
    "# cols = dataset.shape[1]\n",
    "\n",
    "# d = {\n",
    "#     'a1': {'n_sel': 0, 'r': 0, 'av_r': 0, 'di': 0, 'ub': 0},\n",
    "#     'a2': {'n_sel': 0, 'r': 0, 'av_r': 0, 'di': 0, 'ub': 0},\n",
    "#     'a3': {'n_sel': 0, 'r': 0, 'av_r': 0, 'di': 0, 'ub': 0},\n",
    "#     'a4': {'n_sel': 0, 'r': 0, 'av_r': 0, 'di': 0, 'ub': 0},\n",
    "#     'a5': {'n_sel': 0, 'r': 0, 'av_r': 0, 'di': 0, 'ub': 0},\n",
    "#     'a6': {'n_sel': 0, 'r': 0, 'av_r': 0, 'di': 0, 'ub': 0},\n",
    "#     'a7': {'n_sel': 0, 'r': 0, 'av_r': 0, 'di': 0, 'ub': 0},\n",
    "#     'a8': {'n_sel': 0, 'r': 0, 'av_r': 0, 'di': 0, 'ub': 0},\n",
    "#     'a9': {'n_sel': 0, 'r': 0, 'av_r': 0, 'di': 0, 'ub': 0},\n",
    "#     'a10': {'n_sel': 0, 'r': 0, 'av_r': 0, 'di': 0, 'ub': 0},\n",
    "# }\n",
    "\n",
    "# def calc_ad(n, n_sel, r):\n",
    "#     av_r = 0\n",
    "#     di = 0\n",
    "#     if n > 0:\n",
    "#         av_r = r/n_sel\n",
    "#         di = math.sqrt(3 / 2 * math.log(n + 1) / n_sel)\n",
    "#         ub = av_r + di\n",
    "#     else:\n",
    "#         ub = 1e400\n",
    "        \n",
    "#     return (av_r, di, ub)\n",
    "\n",
    "# for n in range(0, rows):\n",
    "#     user = dataset.iloc[n].values\n",
    "#     for ad in range(0, cols):\n",
    "#         user_ad = ad + 1\n",
    "#         ad_idx = 'a' + str(user_ad)\n",
    "#         if user[ad] == 1:\n",
    "#             d[ad_idx]['n_sel'] += 1\n",
    "#             d[ad_idx]['r'] += 1\n",
    "#         print(calc_ad(n, d[ad_idx]['n_sel'], d[ad_idx]['r']))\n",
    "# print(d)\n",
    "\n",
    "import math\n",
    "\n",
    "# N = dataset.shape[0]\n",
    "N = 1000\n",
    "D = dataset.shape[1]\n",
    "ads_selected = []\n",
    "nums_of_selections = [0] * D\n",
    "sums_of_rewards = [0] * D\n",
    "# total_reward = 0\n",
    "\n",
    "for n in range(0, N):\n",
    "    current_ad = 0\n",
    "    max_ucb = 0\n",
    "    \n",
    "    for d in range (0, D):\n",
    "        if nums_of_selections[d] > 0:\n",
    "            avrg_reward = sums_of_rewards[d] / nums_of_selections[d]\n",
    "            delta_i = math.sqrt(3/2 * math.log(n + 1) / nums_of_selections[d])\n",
    "            ucb = avrg_reward + delta_i\n",
    "        else:\n",
    "            ucb = 1e400\n",
    "        \n",
    "        if ucb > max_ucb:\n",
    "            max_ucb = ucb\n",
    "            current_ad = d\n",
    "        \n",
    "    ads_selected.append(current_ad)\n",
    "    nums_of_selections[current_ad] += 1\n",
    "    reward = dataset.iloc[n, current_ad]\n",
    "    sums_of_rewards[current_ad] += reward\n",
    "#     total_reward += reward"
   ]
  },
  {
   "cell_type": "markdown",
   "id": "ce17f574",
   "metadata": {},
   "source": [
    "## Visualise the results"
   ]
  },
  {
   "cell_type": "code",
   "execution_count": 98,
   "id": "53f528ec",
   "metadata": {},
   "outputs": [
    {
     "data": {
      "image/png": "[encoded data removed]",
      "text/plain": [
       "<Figure size 432x288 with 1 Axes>"
      ]
     },
     "metadata": {
      "needs_background": "light"
     },
     "output_type": "display_data"
    }
   ],
   "source": [
    "bin = [*range(0, 11, 1)]\n",
    "plt.hist(ads_selected, rwidth = 0.75, align='left', bins = bin)\n",
    "plt.title('UCB')\n",
    "plt.xlabel('Ads')\n",
    "plt.ylabel('Number of selections')\n",
    "plt.show()"
   ]
  },
  {
   "cell_type": "code",
   "execution_count": null,
   "id": "359261d3",
   "metadata": {},
   "outputs": [],
   "source": []
  }
 ],
 "metadata": {
  "kernelspec": {
   "display_name": "Python 3 (ipykernel)",
   "language": "python",
   "name": "python3"
  },
  "language_info": {
   "codemirror_mode": {
    "name": "ipython",
    "version": 3
   },
   "file_extension": ".py",
   "mimetype": "text/x-python",
   "name": "python",
   "nbconvert_exporter": "python",
   "pygments_lexer": "ipython3",
   "version": "3.11.0"
  }
 },
 "nbformat": 4,
 "nbformat_minor": 5
}
