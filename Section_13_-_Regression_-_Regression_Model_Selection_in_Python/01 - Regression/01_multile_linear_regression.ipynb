{
 "cells": [
  {
   "cell_type": "markdown",
   "id": "0c45e59a",
   "metadata": {},
   "source": [
    "# Multiple Linear Regression"
   ]
  },
  {
   "cell_type": "markdown",
   "id": "e4fd597e",
   "metadata": {},
   "source": [
    "## Importing the libraries"
   ]
  },
  {
   "cell_type": "code",
   "execution_count": 1,
   "id": "3e78df04",
   "metadata": {},
   "outputs": [],
   "source": [
    "import numpy as np\n",
    "import matplotlib.pyplot as plt\n",
    "import pandas as pd"
   ]
  },
  {
   "cell_type": "markdown",
   "id": "a8781943",
   "metadata": {},
   "source": [
    "## Importing the dataset"
   ]
  },
  {
   "cell_type": "code",
   "execution_count": 2,
   "id": "6440802a",
   "metadata": {},
   "outputs": [],
   "source": [
    "dataset = pd.read_csv('data.csv')\n",
    "X = dataset.iloc[:, :-1].values\n",
    "y = dataset.iloc[:, -1].values\n",
    "y = y.reshape(len(y), 1)"
   ]
  },
  {
   "cell_type": "markdown",
   "id": "69abfbd7",
   "metadata": {},
   "source": [
    "## Splitting the dataset"
   ]
  },
  {
   "cell_type": "code",
   "execution_count": 3,
   "id": "193bf288",
   "metadata": {},
   "outputs": [],
   "source": [
    "from sklearn.model_selection import train_test_split\n",
    "X_train, X_test, y_train, y_test = train_test_split(X, y, test_size = 0.2, random_state = 0)"
   ]
  },
  {
   "cell_type": "markdown",
   "id": "0e8eff72",
   "metadata": {},
   "source": [
    "## Training the model"
   ]
  },
  {
   "cell_type": "code",
   "execution_count": 4,
   "id": "ba2545c9",
   "metadata": {},
   "outputs": [
    {
     "data": {
      "text/plain": [
       "LinearRegression()"
      ]
     },
     "execution_count": 4,
     "metadata": {},
     "output_type": "execute_result"
    }
   ],
   "source": [
    "from sklearn.linear_model import LinearRegression\n",
    "regressor = LinearRegression()\n",
    "regressor.fit(X_train, y_train)"
   ]
  },
  {
   "cell_type": "markdown",
   "id": "5a92a000",
   "metadata": {},
   "source": [
    "## Testing the model with the learn dataset"
   ]
  },
  {
   "cell_type": "code",
   "execution_count": 5,
   "id": "a38c3549",
   "metadata": {},
   "outputs": [],
   "source": [
    "y_train_pred = regressor.predict(X_train)"
   ]
  },
  {
   "cell_type": "markdown",
   "id": "cae7f8b8",
   "metadata": {},
   "source": [
    "## Printing the metrics for the learn dataset"
   ]
  },
  {
   "cell_type": "code",
   "execution_count": 6,
   "id": "e7078279",
   "metadata": {},
   "outputs": [
    {
     "name": "stdout",
     "output_type": "stream",
     "text": [
      "R2_train = 0.9277253998587902\n",
      "R2_adj_train = 0.9276876042775947\n"
     ]
    }
   ],
   "source": [
    "from sklearn.metrics import r2_score\n",
    "\n",
    "r2_train = r2_score(y_train, y_train_pred)\n",
    "\n",
    "# The idea for how to calculate the R2 adjusted was taken form:\n",
    "# https://stackoverflow.com/questions/49381661/how-do-i-calculate-the-adjusted-r-squared-score-using-scikit-learn\n",
    "numModelFeat = len(regressor.coef_[0]) # Number of features, used in the model - n\n",
    "\n",
    "numTrainObj = len(X_train) # Number of obervations in the learn dataset - p\n",
    "\n",
    "r2_adj_train = 1 - (1 - r2_train) * (numTrainObj - 1) / (numTrainObj - numModelFeat - 1)\n",
    "\n",
    "print(f'R2_train = {r2_train}')\n",
    "print(f'R2_adj_train = {r2_adj_train}')"
   ]
  },
  {
   "cell_type": "markdown",
   "id": "3a9fc9e1",
   "metadata": {},
   "source": [
    "## Visualise Experimental vs Predicted values for the test dataset"
   ]
  },
  {
   "cell_type": "code",
   "execution_count": 7,
   "id": "01e9dd68",
   "metadata": {},
   "outputs": [
    {
     "data": {
      "image/png": "[encoded data removed]",
      "text/plain": [
       "<Figure size 432x288 with 1 Axes>"
      ]
     },
     "metadata": {
      "needs_background": "light"
     },
     "output_type": "display_data"
    }
   ],
   "source": [
    "plt.scatter(y_train, y_train_pred, color = 'red')\n",
    "# plt.plot(y_test, y_train_pred, color = 'blue')\n",
    "plt.show()"
   ]
  },
  {
   "cell_type": "markdown",
   "id": "fee5b961",
   "metadata": {},
   "source": [
    "## Testing the model with the test dataset"
   ]
  },
  {
   "cell_type": "code",
   "execution_count": 8,
   "id": "c2189ae5",
   "metadata": {},
   "outputs": [
    {
     "name": "stdout",
     "output_type": "stream",
     "text": [
      "[[431.42761597]\n",
      " [458.56124622]\n",
      " [462.75264705]\n",
      " ...\n",
      " [469.51835895]\n",
      " [442.41759454]\n",
      " [461.88279939]]\n"
     ]
    }
   ],
   "source": [
    "y_test_pred = regressor.predict(X_test)\n",
    "print(y_test_pred)"
   ]
  },
  {
   "cell_type": "markdown",
   "id": "0fa17181",
   "metadata": {},
   "source": [
    "## Print the metrics for the test dataset"
   ]
  },
  {
   "cell_type": "code",
   "execution_count": 9,
   "id": "91bd5a15",
   "metadata": {},
   "outputs": [
    {
     "name": "stdout",
     "output_type": "stream",
     "text": [
      "R2_test = 0.9325315554761303\n",
      "R2_adj_test = 0.9323901862890714\n"
     ]
    }
   ],
   "source": [
    "from sklearn.metrics import r2_score\n",
    "\n",
    "r2_test = r2_score(y_test, y_test_pred)\n",
    "\n",
    "# numModelFeat is calculate above\n",
    "numTestObs = len(X_test) # Number of obervations in the test dataset - p\n",
    "r2_adj_test = 1 - (1 - r2_test) * ((numTestObs - 1)/(numTestObs - numModelFeat - 1))\n",
    "\n",
    "print(f'R2_test = {r2_test}')\n",
    "print(f'R2_adj_test = {r2_adj_test}')"
   ]
  },
  {
   "cell_type": "markdown",
   "id": "15f9ca98",
   "metadata": {},
   "source": [
    "## Visualise Experimental vs Predicted values for the test dataset"
   ]
  },
  {
   "cell_type": "code",
   "execution_count": 10,
   "id": "1f225364",
   "metadata": {},
   "outputs": [
    {
     "data": {
      "image/png": "[encoded data removed]",
      "text/plain": [
       "<Figure size 432x288 with 1 Axes>"
      ]
     },
     "metadata": {
      "needs_background": "light"
     },
     "output_type": "display_data"
    }
   ],
   "source": [
    "plt.scatter(y_test, y_test_pred, color = 'red')\n",
    "# plt.plot(y_test, y_test_pred, color = 'blue')\n",
    "plt.show()"
   ]
  }
 ],
 "metadata": {
  "kernelspec": {
   "display_name": "Python 3 (ipykernel)",
   "language": "python",
   "name": "python3"
  },
  "language_info": {
   "codemirror_mode": {
    "name": "ipython",
    "version": 3
   },
   "file_extension": ".py",
   "mimetype": "text/x-python",
   "name": "python",
   "nbconvert_exporter": "python",
   "pygments_lexer": "ipython3",
   "version": "3.9.7"
  }
 },
 "nbformat": 4,
 "nbformat_minor": 5
}
