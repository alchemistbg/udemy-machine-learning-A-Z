{
 "cells": [
  {
   "cell_type": "markdown",
   "id": "0e2e29ce",
   "metadata": {},
   "source": [
    "# Naive Bayes"
   ]
  },
  {
   "cell_type": "markdown",
   "id": "dcae1ba8",
   "metadata": {},
   "source": [
    "## Importing the libraries"
   ]
  },
  {
   "cell_type": "code",
   "execution_count": null,
   "id": "f5cb997e",
   "metadata": {},
   "outputs": [],
   "source": [
    "import numpy as np\n",
    "import matplotlib.pyplot as plt\n",
    "import pandas as pd"
   ]
  },
  {
   "cell_type": "markdown",
   "id": "1d03b060",
   "metadata": {},
   "source": [
    "## Importing the dataset"
   ]
  },
  {
   "cell_type": "code",
   "execution_count": null,
   "id": "68d6b253",
   "metadata": {},
   "outputs": [],
   "source": [
    "dataset = pd.read_csv('social_network_ads.csv')\n",
    "X = dataset.iloc[:, :-1].values\n",
    "y = dataset.iloc[:, -1].values"
   ]
  },
  {
   "cell_type": "markdown",
   "id": "c83e3054",
   "metadata": {},
   "source": [
    "## Splitting the dataset"
   ]
  },
  {
   "cell_type": "code",
   "execution_count": null,
   "id": "caaa2076",
   "metadata": {},
   "outputs": [],
   "source": [
    "from sklearn.model_selection import train_test_split\n",
    "X_train, X_test, y_train, y_test = train_test_split(X, y, random_state = 0, test_size = 0.25)"
   ]
  },
  {
   "cell_type": "markdown",
   "id": "a93ccf4b",
   "metadata": {},
   "source": [
    "## Feature scaling"
   ]
  },
  {
   "cell_type": "code",
   "execution_count": null,
   "id": "7c8c0151",
   "metadata": {},
   "outputs": [],
   "source": [
    "from sklearn.preprocessing import StandardScaler\n",
    "sc = StandardScaler()\n",
    "X_train_fs = sc.fit_transform(X_train)\n",
    "X_test_fs = sc.transform(X_test)"
   ]
  },
  {
   "cell_type": "markdown",
   "id": "55fbae43",
   "metadata": {},
   "source": [
    "## Training the Naive Bayes model"
   ]
  },
  {
   "cell_type": "code",
   "execution_count": null,
   "id": "323b3a9a",
   "metadata": {},
   "outputs": [],
   "source": [
    "from sklearn.naive_bayes import GaussianNB\n",
    "classifier = GaussianNB()\n",
    "classifier.fit(X_train_fs, y_train)"
   ]
  },
  {
   "cell_type": "markdown",
   "id": "5dc5fb31",
   "metadata": {},
   "source": [
    "## Applying the model on the training set"
   ]
  },
  {
   "cell_type": "code",
   "execution_count": null,
   "id": "e90bb0c9",
   "metadata": {},
   "outputs": [],
   "source": [
    "y_train_re = y_train.reshape(len(y_train), 1)\n",
    "\n",
    "y_train_pred = classifier.predict(X_train_fs)\n",
    "y_train_pred = y_train_pred.reshape(len(y_train_pred), 1)\n",
    "\n",
    "y_train_pred_proba = classifier.predict_proba(X_train_fs)"
   ]
  },
  {
   "cell_type": "markdown",
   "id": "fb208766",
   "metadata": {},
   "source": [
    "## Model performance on the training set"
   ]
  },
  {
   "cell_type": "code",
   "execution_count": null,
   "id": "5d625f6b",
   "metadata": {},
   "outputs": [],
   "source": [
    "from sklearn.metrics import confusion_matrix, classification_report\n",
    "from sklearn.metrics import accuracy_score, precision_score, matthews_corrcoef, cohen_kappa_score, roc_auc_score\n",
    "\n",
    "cm_train = confusion_matrix(y_train, y_train_pred)\n",
    "cr_train = classification_report(y_train, y_train_pred)\n",
    "print(cm_train)\n",
    "print(cr_train)\n",
    "\n",
    "acc_train = accuracy_score(y_train, y_train_pred)\n",
    "prec_train = precision_score(y_train, y_train_pred)\n",
    "ck_train = cohen_kappa_score(y_train, y_train_pred)\n",
    "mcc_train = matthews_corrcoef(y_train, y_train_pred)\n",
    "roc_auc_train = roc_auc_score(y_train, y_train_pred)\n",
    "\n",
    "print(f'Accuracy = {acc_train:.2f}; Precision = {prec_train:.2f}; Kappa = {ck_train:.2f}; MCC = {mcc_train:.2f}; ROC AUC = {roc_auc_train:.2f}')"
   ]
  },
  {
   "cell_type": "markdown",
   "id": "9f991612",
   "metadata": {},
   "source": [
    "## Applying the model to a new observations"
   ]
  },
  {
   "cell_type": "code",
   "execution_count": null,
   "id": "95409d24",
   "metadata": {},
   "outputs": [],
   "source": [
    "new_obs = [[30, 87000]]\n",
    "new_obs = sc.transform(new_obs)\n",
    "\n",
    "new_obs_pred = classifier.predict(new_obs)\n",
    "new_obs_pred_proba = classifier.predict_proba(new_obs)\n",
    "print(new_obs_pred[0])\n",
    "print(new_obs_pred_proba[0])"
   ]
  },
  {
   "cell_type": "markdown",
   "id": "70cec4b6",
   "metadata": {},
   "source": [
    "## Testing the logistic regression model"
   ]
  },
  {
   "cell_type": "code",
   "execution_count": null,
   "id": "73cf7d23",
   "metadata": {},
   "outputs": [],
   "source": [
    "y_test_re = y_test.reshape(len(y_test), 1)\n",
    "\n",
    "y_test_pred = classifier.predict(X_test_fs)\n",
    "y_test_pred = y_test_pred.reshape(len(y_test_pred), 1)\n",
    "\n",
    "# print(np.concatenate((y_test_re, y_test_pred), 1))\n",
    "\n",
    "y_test_pred_proba = classifier.predict_proba(X_test_fs)"
   ]
  },
  {
   "cell_type": "markdown",
   "id": "d2e67d14",
   "metadata": {},
   "source": [
    "## Displaying the confusuion matrix and model statistics"
   ]
  },
  {
   "cell_type": "code",
   "execution_count": null,
   "id": "6122de39",
   "metadata": {},
   "outputs": [],
   "source": [
    "from sklearn.metrics import confusion_matrix, classification_report\n",
    "from sklearn.metrics import accuracy_score, precision_score, matthews_corrcoef, cohen_kappa_score, roc_auc_score\n",
    "\n",
    "cm_test = confusion_matrix(y_test, y_test_pred)\n",
    "cr_test = classification_report(y_test, y_test_pred)\n",
    "print(cm_test)\n",
    "print(cr_test)\n",
    "\n",
    "acc_test = accuracy_score(y_test, y_test_pred)\n",
    "prec_test = precision_score(y_test, y_test_pred)\n",
    "ck_test = cohen_kappa_score(y_test, y_test_pred)\n",
    "mcc_test = matthews_corrcoef(y_test, y_test_pred)\n",
    "roc_auc_test = roc_auc_score(y_test, y_test_pred)\n",
    "print(f'Accuracy = {acc_test:.2f}; Precision = {prec_test:.2f}; Kappa = {ck_test:.2f}; MCC = {mcc_test:.2f}; ROC AUC = {roc_auc_test:.2f}')"
   ]
  },
  {
   "cell_type": "code",
   "execution_count": null,
   "id": "0b1f0105",
   "metadata": {},
   "outputs": [],
   "source": []
  }
 ],
 "metadata": {
  "kernelspec": {
   "display_name": "Python 3 (ipykernel)",
   "language": "python",
   "name": "python3"
  },
  "language_info": {
   "codemirror_mode": {
    "name": "ipython",
    "version": 3
   },
   "file_extension": ".py",
   "mimetype": "text/x-python",
   "name": "python",
   "nbconvert_exporter": "python",
   "pygments_lexer": "ipython3",
   "version": "3.9.7"
  }
 },
 "nbformat": 4,
 "nbformat_minor": 5
}
