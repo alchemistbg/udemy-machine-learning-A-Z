{
 "cells": [
  {
   "cell_type": "markdown",
   "id": "b38f94b4",
   "metadata": {},
   "source": [
    "# Kernel Support Vector Machine"
   ]
  },
  {
   "cell_type": "markdown",
   "id": "0781c845",
   "metadata": {},
   "source": [
    "## Importing the libraries"
   ]
  },
  {
   "cell_type": "code",
   "execution_count": 1,
   "id": "09f8e765",
   "metadata": {},
   "outputs": [],
   "source": [
    "import numpy as np\n",
    "import matplotlib.pyplot as plt\n",
    "import pandas as pd"
   ]
  },
  {
   "cell_type": "markdown",
   "id": "27b6c6f1",
   "metadata": {},
   "source": [
    "## Importing the dataset"
   ]
  },
  {
   "cell_type": "code",
   "execution_count": 2,
   "id": "c54ba776",
   "metadata": {},
   "outputs": [],
   "source": [
    "dataset = pd.read_csv('social_network_ads.csv');\n",
    "X = dataset.iloc[:, :-1].values\n",
    "y = dataset.iloc[:, -1].values"
   ]
  },
  {
   "cell_type": "markdown",
   "id": "c8fc2afb",
   "metadata": {},
   "source": [
    "## Splitting the dataset"
   ]
  },
  {
   "cell_type": "code",
   "execution_count": 12,
   "id": "1b954128",
   "metadata": {},
   "outputs": [],
   "source": [
    "from sklearn.model_selection import train_test_split\n",
    "X_train, X_test, y_train, y_test = train_test_split(X, y, random_state = 0, test_size = 0.25)"
   ]
  },
  {
   "cell_type": "markdown",
   "id": "87f5bba2",
   "metadata": {},
   "source": [
    "## Feature scaling"
   ]
  },
  {
   "cell_type": "code",
   "execution_count": 13,
   "id": "39328657",
   "metadata": {},
   "outputs": [],
   "source": [
    "from sklearn.preprocessing import StandardScaler\n",
    "sc = StandardScaler()\n",
    "X_train_fs = sc.fit_transform(X_train)\n",
    "X_test_fs = sc.transform(X_test)"
   ]
  },
  {
   "cell_type": "markdown",
   "id": "4ff2e0c1",
   "metadata": {},
   "source": [
    "## Training the kernel SVM model"
   ]
  },
  {
   "cell_type": "code",
   "execution_count": 6,
   "id": "86bf2022",
   "metadata": {},
   "outputs": [
    {
     "data": {
      "text/plain": [
       "SVC(probability=True, random_state=0)"
      ]
     },
     "execution_count": 6,
     "metadata": {},
     "output_type": "execute_result"
    }
   ],
   "source": [
    "from sklearn.svm import SVC\n",
    "classifier = SVC(random_state = 0, probability = True)\n",
    "# classifier = SVC(random_state = 0, probability = True)\n",
    "classifier.fit(X_train_fs, y_train)"
   ]
  },
  {
   "cell_type": "markdown",
   "id": "9309a485",
   "metadata": {},
   "source": [
    "## Applying the model on the training set"
   ]
  },
  {
   "cell_type": "code",
   "execution_count": 7,
   "id": "add11e6e",
   "metadata": {},
   "outputs": [],
   "source": [
    "y_train_re = y_train.reshape(len(y_train), 1)\n",
    "\n",
    "y_train_pred = classifier.predict(X_train_fs)\n",
    "y_train_pred = y_train_pred.reshape(len(y_train_pred), 1)\n",
    "\n",
    "y_train_proba = classifier.predict_proba(X_train_fs)"
   ]
  },
  {
   "cell_type": "markdown",
   "id": "aaf7628e",
   "metadata": {},
   "source": [
    "## Model preformance on the training set"
   ]
  },
  {
   "cell_type": "code",
   "execution_count": 8,
   "id": "ee7778e1",
   "metadata": {},
   "outputs": [
    {
     "name": "stdout",
     "output_type": "stream",
     "text": [
      "[[171  18]\n",
      " [  8 103]]\n",
      "              precision    recall  f1-score   support\n",
      "\n",
      "           0       0.96      0.90      0.93       189\n",
      "           1       0.85      0.93      0.89       111\n",
      "\n",
      "    accuracy                           0.91       300\n",
      "   macro avg       0.90      0.92      0.91       300\n",
      "weighted avg       0.92      0.91      0.91       300\n",
      "\n",
      "Accuracy = 0.91; Precision = 0.85; Kappa = 0.82; MCC = 0.82; ROC AUC = 0.92\n"
     ]
    }
   ],
   "source": [
    "from sklearn.metrics import confusion_matrix, classification_report\n",
    "from sklearn.metrics import accuracy_score, precision_score, cohen_kappa_score, matthews_corrcoef, roc_auc_score\n",
    "\n",
    "cm_train = confusion_matrix(y_train, y_train_pred)\n",
    "cr_train = classification_report(y_train, y_train_pred)\n",
    "print(cm_train)\n",
    "print(cr_train)\n",
    "\n",
    "acc_train = accuracy_score(y_train, y_train_pred)\n",
    "prec_train = precision_score(y_train, y_train_pred)\n",
    "ck_train = cohen_kappa_score(y_train, y_train_pred)\n",
    "mcc_train = matthews_corrcoef(y_train, y_train_pred)\n",
    "roc_auc_train = roc_auc_score(y_train, y_train_pred)\n",
    "\n",
    "print(f'Accuracy = {acc_train:.2f}; Precision = {prec_train:.2f}; Kappa = {ck_train:.2f}; MCC = {mcc_train:.2f}; ROC AUC = {roc_auc_train:.2f}')"
   ]
  },
  {
   "cell_type": "markdown",
   "id": "3b1a1b07",
   "metadata": {},
   "source": [
    "## Apply the model to a new observations"
   ]
  },
  {
   "cell_type": "code",
   "execution_count": 9,
   "id": "2d39ae72",
   "metadata": {},
   "outputs": [
    {
     "name": "stdout",
     "output_type": "stream",
     "text": [
      "[0]\n",
      "[[0.80353319 0.19646681]]\n"
     ]
    }
   ],
   "source": [
    "new_obs = [[37, 87000]]\n",
    "new_obs_fs = sc.transform(new_obs)\n",
    "\n",
    "new_obs_pred = classifier.predict(new_obs_fs)\n",
    "new_obs_pred_proba = classifier.predict_proba(new_obs_fs)\n",
    "print(new_obs_pred)\n",
    "print(new_obs_pred_proba)"
   ]
  },
  {
   "cell_type": "markdown",
   "id": "23fee807",
   "metadata": {},
   "source": [
    "## Apply the model to a test set"
   ]
  },
  {
   "cell_type": "code",
   "execution_count": 10,
   "id": "a2d06f9d",
   "metadata": {},
   "outputs": [],
   "source": [
    "y_test_re = y_test.reshape(len(y_test), 1)\n",
    "\n",
    "y_test_pred = classifier.predict(X_test_fs)\n",
    "y_test_pred = y_test_pred.reshape(len(y_test_pred), 1)\n",
    "\n",
    "y_test_proba = classifier.predict_proba(X_test_fs)"
   ]
  },
  {
   "cell_type": "markdown",
   "id": "21a73732",
   "metadata": {},
   "source": [
    "## Model performance on the test set"
   ]
  },
  {
   "cell_type": "code",
   "execution_count": 14,
   "id": "1c83125b",
   "metadata": {},
   "outputs": [
    {
     "name": "stdout",
     "output_type": "stream",
     "text": [
      "[[64  4]\n",
      " [ 3 29]]\n",
      "              precision    recall  f1-score   support\n",
      "\n",
      "           0       0.96      0.94      0.95        68\n",
      "           1       0.88      0.91      0.89        32\n",
      "\n",
      "    accuracy                           0.93       100\n",
      "   macro avg       0.92      0.92      0.92       100\n",
      "weighted avg       0.93      0.93      0.93       100\n",
      "\n",
      "Accuracy = 0.93; Precision = 0.88; Kappa = 0.84; MCC = 0.84; ROC AUC = 0.92\n"
     ]
    }
   ],
   "source": [
    "from sklearn.metrics import confusion_matrix, classification_report\n",
    "from sklearn.metrics import accuracy_score, precision_score, cohen_kappa_score, matthews_corrcoef, roc_auc_score\n",
    "\n",
    "cm_test = confusion_matrix(y_test, y_test_pred)\n",
    "cr_test = classification_report(y_test, y_test_pred)\n",
    "print(cm_test)\n",
    "print(cr_test)\n",
    "\n",
    "acc_test = accuracy_score(y_test, y_test_pred)\n",
    "prec_test = precision_score(y_test, y_test_pred)\n",
    "ck_test = cohen_kappa_score(y_test, y_test_pred)\n",
    "mcc_test = matthews_corrcoef(y_test, y_test_pred)\n",
    "roc_auc_test = roc_auc_score(y_test, y_test_pred)\n",
    "\n",
    "print(f'Accuracy = {acc_test:.2f}; Precision = {prec_test:.2f}; Kappa = {ck_test:.2f}; MCC = {mcc_test:.2f}; ROC AUC = {roc_auc_test:.2f}')"
   ]
  },
  {
   "cell_type": "code",
   "execution_count": null,
   "id": "67c536ca",
   "metadata": {},
   "outputs": [],
   "source": []
  }
 ],
 "metadata": {
  "kernelspec": {
   "display_name": "Python 3 (ipykernel)",
   "language": "python",
   "name": "python3"
  },
  "language_info": {
   "codemirror_mode": {
    "name": "ipython",
    "version": 3
   },
   "file_extension": ".py",
   "mimetype": "text/x-python",
   "name": "python",
   "nbconvert_exporter": "python",
   "pygments_lexer": "ipython3",
   "version": "3.9.7"
  }
 },
 "nbformat": 4,
 "nbformat_minor": 5
}
