{
 "cells": [
  {
   "cell_type": "markdown",
   "id": "22423fce",
   "metadata": {},
   "source": [
    "# Reinforcement Learning - Thompson sampling"
   ]
  },
  {
   "cell_type": "markdown",
   "id": "c742ca2c",
   "metadata": {},
   "source": [
    "## Importing the libraries"
   ]
  },
  {
   "cell_type": "code",
   "execution_count": 1,
   "id": "df9f8cce",
   "metadata": {},
   "outputs": [],
   "source": [
    "import numpy as np\n",
    "import matplotlib.pyplot as plt\n",
    "import pandas as pd"
   ]
  },
  {
   "cell_type": "markdown",
   "id": "f83b71eb",
   "metadata": {},
   "source": [
    "## Importing the dataset"
   ]
  },
  {
   "cell_type": "code",
   "execution_count": 2,
   "id": "dcd87e72",
   "metadata": {},
   "outputs": [],
   "source": [
    "dataset = pd.read_csv('Ads_CTR_Optimisation.csv')"
   ]
  },
  {
   "cell_type": "markdown",
   "id": "46d9aa77",
   "metadata": {},
   "source": [
    "## Implementing the UCB algorithm"
   ]
  },
  {
   "cell_type": "code",
   "execution_count": 3,
   "id": "9a05d843",
   "metadata": {},
   "outputs": [],
   "source": [
    "# import random\n",
    "\n",
    "# # N = dataset.shape[0]\n",
    "# N = 1000\n",
    "# D = dataset.shape[1]\n",
    "# ads_selected = []\n",
    "# num_rewards_0 = [0] * D\n",
    "# num_rewards_1 = [0] * D\n",
    "# total_reward = 0\n",
    "\n",
    "# for n in range(0, N):\n",
    "#     current_ad = 0\n",
    "#     max_random = 0\n",
    "    \n",
    "#     for d in range(0, D):\n",
    "#         random_beta = random.betavariate(num_rewards_1[d] + 1, num_rewards_0[d] + 1)\n",
    "        \n",
    "#         if (random_beta > max_random):\n",
    "#             max_random = random_beta\n",
    "#             current_ad = d\n",
    "            \n",
    "#     ads_selected.append(current_ad)    \n",
    "#     reward = dataset.iloc[n, current_ad]\n",
    "    \n",
    "#     if reward == 1:\n",
    "#         num_rewards_1[current_ad] += 1\n",
    "#     else:\n",
    "#         num_rewards_0[current_ad] += 1\n",
    "    \n",
    "#     total_reward += reward\n",
    "\n",
    "import random\n",
    "N = 1000\n",
    "d = 10\n",
    "ads_selected = []\n",
    "numbers_of_rewards_1 = [0] * d\n",
    "numbers_of_rewards_0 = [0] * d\n",
    "total_reward = 0\n",
    "for n in range(0, N):\n",
    "  ad = 0\n",
    "  max_random = 0\n",
    "  for i in range(0, d):\n",
    "    random_beta = random.betavariate(numbers_of_rewards_1[i] + 1, numbers_of_rewards_0[i] + 1)\n",
    "    if (random_beta > max_random):\n",
    "      max_random = random_beta\n",
    "      ad = i\n",
    "  ads_selected.append(ad)\n",
    "  reward = dataset.values[n, ad]\n",
    "  if reward == 1:\n",
    "    numbers_of_rewards_1[ad] = numbers_of_rewards_1[ad] + 1\n",
    "  else:\n",
    "    numbers_of_rewards_0[ad] = numbers_of_rewards_0[ad] + 1\n",
    "  total_reward = total_reward + reward"
   ]
  },
  {
   "cell_type": "markdown",
   "id": "ce17f574",
   "metadata": {},
   "source": [
    "## Visualise the results"
   ]
  },
  {
   "cell_type": "code",
   "execution_count": 4,
   "id": "53f528ec",
   "metadata": {},
   "outputs": [
    {
     "data": {
      "image/png": "[encoded data removed]",
      "text/plain": [
       "<Figure size 432x288 with 1 Axes>"
      ]
     },
     "metadata": {
      "needs_background": "light"
     },
     "output_type": "display_data"
    }
   ],
   "source": [
    "bin = [*range(0, 11, 1)]\n",
    "plt.hist(ads_selected, rwidth = 0.75, align='left', bins = bin)\n",
    "plt.title('UCB')\n",
    "plt.xlabel('Ads')\n",
    "plt.ylabel('Number of selections')\n",
    "plt.show()"
   ]
  }
 ],
 "metadata": {
  "kernelspec": {
   "display_name": "Python 3 (ipykernel)",
   "language": "python",
   "name": "python3"
  },
  "language_info": {
   "codemirror_mode": {
    "name": "ipython",
    "version": 3
   },
   "file_extension": ".py",
   "mimetype": "text/x-python",
   "name": "python",
   "nbconvert_exporter": "python",
   "pygments_lexer": "ipython3",
   "version": "3.11.0"
  }
 },
 "nbformat": 4,
 "nbformat_minor": 5
}
