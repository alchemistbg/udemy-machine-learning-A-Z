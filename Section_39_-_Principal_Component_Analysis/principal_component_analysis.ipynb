{
 "cells": [
  {
   "cell_type": "markdown",
   "id": "6dbac5b9",
   "metadata": {},
   "source": [
    "# Principal Component Analysis"
   ]
  },
  {
   "cell_type": "markdown",
   "id": "6235dbf2",
   "metadata": {},
   "source": [
    "## Importing the libraries"
   ]
  },
  {
   "cell_type": "code",
   "execution_count": 1,
   "id": "99439118",
   "metadata": {},
   "outputs": [],
   "source": [
    "import numpy as np\n",
    "import matplotlib.pyplot as plt\n",
    "import pandas as pd"
   ]
  },
  {
   "cell_type": "markdown",
   "id": "f9ba2a4d",
   "metadata": {},
   "source": [
    "## Importing the dataset"
   ]
  },
  {
   "cell_type": "code",
   "execution_count": 2,
   "id": "592ede21",
   "metadata": {},
   "outputs": [],
   "source": [
    "dataset = pd.read_csv('wine.csv')\n",
    "X = dataset.iloc[:, :-1].values\n",
    "y = dataset.iloc[:, -1].values\n",
    "# "
   ]
  },
  {
   "cell_type": "markdown",
   "id": "9c3e1519",
   "metadata": {},
   "source": [
    "## Splitting the dataset"
   ]
  },
  {
   "cell_type": "code",
   "execution_count": 3,
   "id": "61e94c60",
   "metadata": {},
   "outputs": [],
   "source": [
    "from sklearn.model_selection import train_test_split\n",
    "X_train, X_test, y_train, y_test = train_test_split(X, y, test_size = 0.2, random_state = 0)"
   ]
  },
  {
   "cell_type": "markdown",
   "id": "ff2cdf3c",
   "metadata": {},
   "source": [
    "## Feature scaling"
   ]
  },
  {
   "cell_type": "code",
   "execution_count": 4,
   "id": "355a83af",
   "metadata": {},
   "outputs": [],
   "source": [
    "from sklearn.preprocessing import StandardScaler\n",
    "sc = StandardScaler()\n",
    "X_train_fs = sc.fit_transform(X_train)\n",
    "X_test_fs = sc.transform(X_test)"
   ]
  },
  {
   "cell_type": "markdown",
   "id": "bc616acc",
   "metadata": {},
   "source": [
    "## Applying the PCA"
   ]
  },
  {
   "cell_type": "code",
   "execution_count": 5,
   "id": "ea606017",
   "metadata": {},
   "outputs": [],
   "source": [
    "from sklearn.decomposition import PCA\n",
    "pca = PCA(n_components = 2)\n",
    "X_train_pca = pca.fit_transform(X_train_fs)\n",
    "X_test_pca = pca.transform(X_test_fs)"
   ]
  },
  {
   "cell_type": "markdown",
   "id": "297cb917",
   "metadata": {},
   "source": [
    "## Training the logistic regression on the train set"
   ]
  },
  {
   "cell_type": "code",
   "execution_count": 6,
   "id": "70e2e955",
   "metadata": {},
   "outputs": [
    {
     "data": {
      "text/plain": [
       "LogisticRegression(random_state=0)"
      ]
     },
     "execution_count": 6,
     "metadata": {},
     "output_type": "execute_result"
    }
   ],
   "source": [
    "from sklearn.linear_model import LogisticRegression\n",
    "classifier = LogisticRegression(random_state = 0)\n",
    "classifier.fit(X_train_pca, y_train)\n",
    "# classifier.fit(X_train_fs, y_train)"
   ]
  },
  {
   "cell_type": "markdown",
   "id": "7650c0e3",
   "metadata": {},
   "source": [
    "## Applying the logistic regression model on the train set"
   ]
  },
  {
   "cell_type": "code",
   "execution_count": 7,
   "id": "c1d39fc5",
   "metadata": {},
   "outputs": [],
   "source": [
    "y_train_re = y_train.reshape(len(y_train), 1)\n",
    "\n",
    "y_train_pred = classifier.predict(X_train_pca)\n",
    "# y_train_pred = classifier.predict(X_train_fs)\n",
    "y_train_pred = y_train_pred.reshape(len(y_train_pred), 1)\n",
    "\n",
    "\n",
    "y_train_pred_proba = classifier.predict_proba(X_train_pca)\n",
    "# y_train_pred_proba = classifier.predict_proba(X_train_fs)"
   ]
  },
  {
   "cell_type": "markdown",
   "id": "72240bfa",
   "metadata": {},
   "source": [
    "## Model performance on the train set"
   ]
  },
  {
   "cell_type": "code",
   "execution_count": 8,
   "id": "5a86b7c9",
   "metadata": {},
   "outputs": [
    {
     "name": "stdout",
     "output_type": "stream",
     "text": [
      "[[43  2  0]\n",
      " [ 2 52  1]\n",
      " [ 0  0 42]]\n",
      "              precision    recall  f1-score   support\n",
      "\n",
      "           1       0.96      0.96      0.96        45\n",
      "           2       0.96      0.95      0.95        55\n",
      "           3       0.98      1.00      0.99        42\n",
      "\n",
      "    accuracy                           0.96       142\n",
      "   macro avg       0.97      0.97      0.97       142\n",
      "weighted avg       0.96      0.96      0.96       142\n",
      "\n",
      "Accuracy = 0.96; Kappa = 0.95; MCC = 0.95\n"
     ]
    }
   ],
   "source": [
    "from sklearn.metrics import confusion_matrix, classification_report\n",
    "from sklearn.metrics import accuracy_score, precision_score, matthews_corrcoef, cohen_kappa_score, roc_auc_score\n",
    "\n",
    "cm_train = confusion_matrix(y_train, y_train_pred)\n",
    "cr_train = classification_report(y_train, y_train_pred)\n",
    "print(cm_train)\n",
    "print(cr_train)\n",
    "\n",
    "acc_train = accuracy_score(y_train, y_train_pred)\n",
    "# prec_train = precision_score(y_train, y_train_pred)\n",
    "ck_train = cohen_kappa_score(y_train, y_train_pred)\n",
    "mcc_train = matthews_corrcoef(y_train, y_train_pred)\n",
    "# roc_auc_train = roc_auc_score(y_train, y_train_pred)\n",
    "# print(f'Accuracy = {acc_train:.2f}; Precision = {prec_train:.2f}; Kappa = {ck_train:.2f}; MCC = {mcc_train:.2f}; ROC AUC = {roc_auc_train:.2f}')\n",
    "print(f'Accuracy = {acc_train:.2f}; Kappa = {ck_train:.2f}; MCC = {mcc_train:.2f}')"
   ]
  },
  {
   "cell_type": "markdown",
   "id": "7d5923bf",
   "metadata": {},
   "source": [
    "## Applying the logistic regression to the test set"
   ]
  },
  {
   "cell_type": "code",
   "execution_count": 9,
   "id": "8769d2ce",
   "metadata": {},
   "outputs": [],
   "source": [
    "y_test_re = y_test.reshape(len(y_test), 1)\n",
    "\n",
    "y_test_pred = classifier.predict(X_test_pca)\n",
    "# y_test_pred = classifier.predict(X_test_fs)\n",
    "y_test_pred = y_test_pred.reshape(len(y_test_pred), 1)\n",
    "\n",
    "y_test_pred_proba = classifier.predict_proba(X_test_pca)\n",
    "# y_test_pred_proba = classifier.predict_proba(X_test_fs)"
   ]
  },
  {
   "cell_type": "markdown",
   "id": "fc651f14",
   "metadata": {},
   "source": [
    "## Model performance on the test set"
   ]
  },
  {
   "cell_type": "code",
   "execution_count": 10,
   "id": "42255f4b",
   "metadata": {},
   "outputs": [
    {
     "name": "stdout",
     "output_type": "stream",
     "text": [
      "[[14  0  0]\n",
      " [ 1 15  0]\n",
      " [ 0  0  6]]\n",
      "              precision    recall  f1-score   support\n",
      "\n",
      "           1       0.93      1.00      0.97        14\n",
      "           2       1.00      0.94      0.97        16\n",
      "           3       1.00      1.00      1.00         6\n",
      "\n",
      "    accuracy                           0.97        36\n",
      "   macro avg       0.98      0.98      0.98        36\n",
      "weighted avg       0.97      0.97      0.97        36\n",
      "\n",
      "Accuracy = 0.97; Kappa = 0.96; MCC = 0.96\n"
     ]
    }
   ],
   "source": [
    "from sklearn.metrics import confusion_matrix, classification_report\n",
    "from sklearn.metrics import accuracy_score, precision_score, matthews_corrcoef, cohen_kappa_score, roc_auc_score\n",
    "\n",
    "cm_test = confusion_matrix(y_test, y_test_pred)\n",
    "cr_test = classification_report(y_test, y_test_pred)\n",
    "print(cm_test)\n",
    "print(cr_test)\n",
    "\n",
    "acc_test = accuracy_score(y_test, y_test_pred)\n",
    "# prec_test = precision_score(y_test, y_test_pred)\n",
    "ck_test = cohen_kappa_score(y_test, y_test_pred)\n",
    "mcc_test = matthews_corrcoef(y_test, y_test_pred)\n",
    "# roc_auc_test = roc_auc_score(y_test, y_test_pred)\n",
    "# print(f'Accuracy = {acc_test:.2f}; Precision = {prec_test:.2f}; Kappa = {ck_test:.2f}; MCC = {mcc_test:.2f}; ROC AUC = {roc_auc_test:.2f}')\n",
    "print(f'Accuracy = {acc_test:.2f}; Kappa = {ck_test:.2f}; MCC = {mcc_test:.2f}')"
   ]
  }
 ],
 "metadata": {
  "kernelspec": {
   "display_name": "Python 3 (ipykernel)",
   "language": "python",
   "name": "python3"
  },
  "language_info": {
   "codemirror_mode": {
    "name": "ipython",
    "version": 3
   },
   "file_extension": ".py",
   "mimetype": "text/x-python",
   "name": "python",
   "nbconvert_exporter": "python",
   "pygments_lexer": "ipython3",
   "version": "3.9.7"
  }
 },
 "nbformat": 4,
 "nbformat_minor": 5
}
