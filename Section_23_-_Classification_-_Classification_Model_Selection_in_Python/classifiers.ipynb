{
 "cells": [
  {
   "cell_type": "markdown",
   "id": "6342ebf0",
   "metadata": {},
   "source": [
    "# Classifiers"
   ]
  },
  {
   "cell_type": "markdown",
   "id": "49d53349",
   "metadata": {},
   "source": [
    "## Preprocessing"
   ]
  },
  {
   "cell_type": "markdown",
   "id": "5ebbb6e2",
   "metadata": {},
   "source": [
    "### Importing the libraries"
   ]
  },
  {
   "cell_type": "code",
   "execution_count": 1,
   "id": "686111b4",
   "metadata": {},
   "outputs": [],
   "source": [
    "import numpy as np\n",
    "import matplotlib.pyplot as plt\n",
    "import pandas as pd\n",
    "\n",
    "# Importing the libraries for evaluating model's performance\n",
    "from sklearn.metrics import confusion_matrix, classification_report\n",
    "from sklearn.metrics import accuracy_score, precision_score, cohen_kappa_score, matthews_corrcoef, roc_auc_score"
   ]
  },
  {
   "cell_type": "markdown",
   "id": "a6132f71",
   "metadata": {},
   "source": [
    "### Importing the dataset"
   ]
  },
  {
   "cell_type": "code",
   "execution_count": 2,
   "id": "e6162723",
   "metadata": {},
   "outputs": [],
   "source": [
    "dataset = pd.read_csv('data.csv')\n",
    "X = dataset.iloc[:, :-1].values\n",
    "y = dataset.iloc[:, -1].values"
   ]
  },
  {
   "cell_type": "markdown",
   "id": "42ef9667",
   "metadata": {},
   "source": [
    "### Splitting the dataset"
   ]
  },
  {
   "cell_type": "code",
   "execution_count": 3,
   "id": "6c1decd9",
   "metadata": {},
   "outputs": [],
   "source": [
    "from sklearn.model_selection import train_test_split\n",
    "X_train, X_test, y_train, y_test = train_test_split(X, y, test_size = 0.25, random_state = 0)\n",
    "\n",
    "y_train_re = y_train.reshape(len(y_train), 1)"
   ]
  },
  {
   "cell_type": "markdown",
   "id": "ace32f39",
   "metadata": {},
   "source": [
    "### Feature scaling"
   ]
  },
  {
   "cell_type": "code",
   "execution_count": 4,
   "id": "888e455f",
   "metadata": {},
   "outputs": [],
   "source": [
    "from sklearn.preprocessing import StandardScaler\n",
    "sc = StandardScaler()\n",
    "X_train_fs = sc.fit_transform(X_train)\n",
    "X_test_fs = sc.transform(X_test)"
   ]
  },
  {
   "cell_type": "markdown",
   "id": "f9cbef34",
   "metadata": {},
   "source": [
    "## Logistic regression"
   ]
  },
  {
   "cell_type": "markdown",
   "id": "f8d6e3bf",
   "metadata": {},
   "source": [
    "### Create model"
   ]
  },
  {
   "cell_type": "code",
   "execution_count": 5,
   "id": "e0bfcd7e",
   "metadata": {},
   "outputs": [],
   "source": [
    "from sklearn.linear_model import LogisticRegression\n",
    "lr_classifier = LogisticRegression(random_state = 0)"
   ]
  },
  {
   "cell_type": "markdown",
   "id": "e1a2c6e6",
   "metadata": {},
   "source": [
    "### Training the model"
   ]
  },
  {
   "cell_type": "code",
   "execution_count": 6,
   "id": "a13d265d",
   "metadata": {},
   "outputs": [
    {
     "data": {
      "text/plain": [
       "LogisticRegression(random_state=0)"
      ]
     },
     "execution_count": 6,
     "metadata": {},
     "output_type": "execute_result"
    }
   ],
   "source": [
    "lr_classifier.fit(X_train_fs, y_train)"
   ]
  },
  {
   "cell_type": "markdown",
   "id": "da410f0d",
   "metadata": {},
   "source": [
    "### Applying the model on the train test"
   ]
  },
  {
   "cell_type": "code",
   "execution_count": 7,
   "id": "00acf85b",
   "metadata": {},
   "outputs": [],
   "source": [
    "lr_y_train_pred = lr_classifier.predict(X_train_fs)\n",
    "lr_y_train_pred = lr_y_train_pred.reshape(len(lr_y_train_pred), 1)"
   ]
  },
  {
   "cell_type": "markdown",
   "id": "f3eabbf8",
   "metadata": {},
   "source": [
    "### Evaluating the model performance on the train set"
   ]
  },
  {
   "cell_type": "code",
   "execution_count": 8,
   "id": "84dd6014",
   "metadata": {},
   "outputs": [
    {
     "name": "stdout",
     "output_type": "stream",
     "text": [
      "[[332   5]\n",
      " [  5 170]]\n",
      "              precision    recall  f1-score   support\n",
      "\n",
      "           2       0.99      0.99      0.99       337\n",
      "           4       0.97      0.97      0.97       175\n",
      "\n",
      "    accuracy                           0.98       512\n",
      "   macro avg       0.98      0.98      0.98       512\n",
      "weighted avg       0.98      0.98      0.98       512\n",
      "\n"
     ]
    }
   ],
   "source": [
    "lr_cm_train = confusion_matrix(y_train, lr_y_train_pred)\n",
    "lr_cr_train = classification_report(y_train, lr_y_train_pred)\n",
    "\n",
    "print(lr_cm_train)\n",
    "print(lr_cr_train)"
   ]
  },
  {
   "cell_type": "code",
   "execution_count": 9,
   "id": "94b2d970",
   "metadata": {},
   "outputs": [
    {
     "name": "stdout",
     "output_type": "stream",
     "text": [
      "Accuracy = 0.98; Precision = 0.99; Kappa = 0.96; MCC = 0.96; ROC AUC = 0.98\n"
     ]
    }
   ],
   "source": [
    "lr_acc_train = accuracy_score(y_train, lr_y_train_pred)\n",
    "lr_prec_train = precision_score(y_train, lr_y_train_pred, pos_label=2)\n",
    "lr_ck_train = cohen_kappa_score(y_train, lr_y_train_pred)\n",
    "lr_mcc_train = matthews_corrcoef(y_train, lr_y_train_pred)\n",
    "lr_roc_auc_train = roc_auc_score(y_train, lr_y_train_pred)\n",
    "\n",
    "print(f'Accuracy = {lr_acc_train:.2f}; Precision = {lr_prec_train:.2f}; Kappa = {lr_ck_train:.2f}; MCC = {lr_mcc_train:.2f}; ROC AUC = {lr_roc_auc_train:.2f}')"
   ]
  },
  {
   "cell_type": "markdown",
   "id": "df3f22db",
   "metadata": {},
   "source": [
    "### Applying the model on the test set"
   ]
  },
  {
   "cell_type": "code",
   "execution_count": 10,
   "id": "90805ff9",
   "metadata": {},
   "outputs": [],
   "source": [
    "lr_y_test_pred = lr_classifier.predict(X_test_fs)\n",
    "lr_y_test_pred = lr_y_test_pred.reshape(len(lr_y_test_pred), 1)"
   ]
  },
  {
   "cell_type": "markdown",
   "id": "4f69bcc7",
   "metadata": {},
   "source": [
    "### Evaluating the model performance on the test set"
   ]
  },
  {
   "cell_type": "code",
   "execution_count": 11,
   "id": "20e4f5f9",
   "metadata": {},
   "outputs": [
    {
     "name": "stdout",
     "output_type": "stream",
     "text": [
      "[[103   4]\n",
      " [  5  59]]\n",
      "              precision    recall  f1-score   support\n",
      "\n",
      "           2       0.95      0.96      0.96       107\n",
      "           4       0.94      0.92      0.93        64\n",
      "\n",
      "    accuracy                           0.95       171\n",
      "   macro avg       0.95      0.94      0.94       171\n",
      "weighted avg       0.95      0.95      0.95       171\n",
      "\n"
     ]
    }
   ],
   "source": [
    "lr_cm_test = confusion_matrix(y_test, lr_y_test_pred)\n",
    "lr_cr_test = classification_report(y_test, lr_y_test_pred)\n",
    "\n",
    "print(lr_cm_test)\n",
    "print(lr_cr_test)"
   ]
  },
  {
   "cell_type": "code",
   "execution_count": 71,
   "id": "56ae6ff8",
   "metadata": {
    "scrolled": true
   },
   "outputs": [
    {
     "name": "stdout",
     "output_type": "stream",
     "text": [
      "Accuracy = 0.95; Precision = 0.95; Kappa = 0.89; MCC = 0.89; ROC AUC = 0.94\n",
      "Accuracy = 0.9473684210526315\n"
     ]
    }
   ],
   "source": [
    "lr_acc_test = accuracy_score(y_test, lr_y_test_pred)\n",
    "lr_prec_test = precision_score(y_test, lr_y_test_pred, pos_label = 2)\n",
    "lr_ck_test = cohen_kappa_score(y_test, lr_y_test_pred)\n",
    "lr_mcc_test = matthews_corrcoef(y_test, lr_y_test_pred)\n",
    "lr_roc_auc_test = roc_auc_score(y_test, lr_y_test_pred)\n",
    "\n",
    "print(f'Accuracy = {lr_acc_test:.2f}; Precision = {lr_prec_test:.2f}; Kappa = {lr_ck_test:.2f}; MCC = {lr_mcc_test:.2f}; ROC AUC = {lr_roc_auc_test:.2f}')\n",
    "print(f'Accuracy = {lr_acc_test}')"
   ]
  },
  {
   "cell_type": "markdown",
   "id": "732e75a5",
   "metadata": {},
   "source": [
    "## k-Nearest neighbor"
   ]
  },
  {
   "cell_type": "markdown",
   "id": "8b760e7a",
   "metadata": {},
   "source": [
    "### Create model"
   ]
  },
  {
   "cell_type": "code",
   "execution_count": 13,
   "id": "bc22b103",
   "metadata": {},
   "outputs": [],
   "source": [
    "from sklearn.neighbors import KNeighborsClassifier\n",
    "knn_classifier = KNeighborsClassifier(n_neighbors = 5, p = 2, metric = \"minkowski\")"
   ]
  },
  {
   "cell_type": "markdown",
   "id": "5be0ac23",
   "metadata": {},
   "source": [
    "### Training the model"
   ]
  },
  {
   "cell_type": "code",
   "execution_count": 14,
   "id": "f948cbb1",
   "metadata": {},
   "outputs": [
    {
     "data": {
      "text/plain": [
       "KNeighborsClassifier()"
      ]
     },
     "execution_count": 14,
     "metadata": {},
     "output_type": "execute_result"
    }
   ],
   "source": [
    "knn_classifier.fit(X_train_fs, y_train)"
   ]
  },
  {
   "cell_type": "markdown",
   "id": "9fbae4a3",
   "metadata": {},
   "source": [
    "### Applying the kNN model to the training set"
   ]
  },
  {
   "cell_type": "code",
   "execution_count": 15,
   "id": "92a08808",
   "metadata": {},
   "outputs": [],
   "source": [
    "knn_y_train_pred = knn_classifier.predict(X_train_fs)\n",
    "knn_y_train_pred = knn_y_train_pred.reshape(len(knn_y_train_pred), 1)"
   ]
  },
  {
   "cell_type": "markdown",
   "id": "a2b3e428",
   "metadata": {},
   "source": [
    "### Evaluating the model performance on the train set"
   ]
  },
  {
   "cell_type": "code",
   "execution_count": 16,
   "id": "42dd48f7",
   "metadata": {},
   "outputs": [
    {
     "name": "stdout",
     "output_type": "stream",
     "text": [
      "[[331   6]\n",
      " [  6 169]]\n",
      "              precision    recall  f1-score   support\n",
      "\n",
      "           2       0.98      0.98      0.98       337\n",
      "           4       0.97      0.97      0.97       175\n",
      "\n",
      "    accuracy                           0.98       512\n",
      "   macro avg       0.97      0.97      0.97       512\n",
      "weighted avg       0.98      0.98      0.98       512\n",
      "\n"
     ]
    }
   ],
   "source": [
    "knn_cm_train = confusion_matrix(y_train, knn_y_train_pred)\n",
    "knn_cr_train = classification_report(y_train, knn_y_train_pred)\n",
    "\n",
    "print(knn_cm_train)\n",
    "print(knn_cr_train)"
   ]
  },
  {
   "cell_type": "code",
   "execution_count": 17,
   "id": "fddfa221",
   "metadata": {},
   "outputs": [
    {
     "name": "stdout",
     "output_type": "stream",
     "text": [
      "Accuracy = 0.98; Precision = 0.98; Kappa = 0.95; MCC = 0.95; ROC AUC = 0.97\n"
     ]
    }
   ],
   "source": [
    "knn_acc_train = accuracy_score(y_train, knn_y_train_pred)\n",
    "knn_prec_train = precision_score(y_train, knn_y_train_pred, pos_label = 2)\n",
    "knn_ck_train = cohen_kappa_score(y_train, knn_y_train_pred)\n",
    "knn_mcc_train = matthews_corrcoef(y_train, knn_y_train_pred)\n",
    "knn_roc_auc_train = roc_auc_score(y_train, knn_y_train_pred)\n",
    "\n",
    "print(f'Accuracy = {knn_acc_train:.2f}; Precision = {knn_prec_train:.2f}; Kappa = {knn_ck_train:.2f}; MCC = {knn_mcc_train:.2f}; ROC AUC = {knn_roc_auc_train:.2f}')"
   ]
  },
  {
   "cell_type": "markdown",
   "id": "0d1774d4",
   "metadata": {},
   "source": [
    "### Applying the model on the test set"
   ]
  },
  {
   "cell_type": "code",
   "execution_count": 18,
   "id": "7e01187c",
   "metadata": {},
   "outputs": [],
   "source": [
    "knn_y_test_pred = knn_classifier.predict(X_test_fs)\n",
    "knn_y_test_pred = knn_y_test_pred.reshape(len(knn_y_test_pred), 1)"
   ]
  },
  {
   "cell_type": "markdown",
   "id": "797685f1",
   "metadata": {},
   "source": [
    "### Evaluating the model performance on the test set"
   ]
  },
  {
   "cell_type": "code",
   "execution_count": 19,
   "id": "a45a791f",
   "metadata": {},
   "outputs": [
    {
     "name": "stdout",
     "output_type": "stream",
     "text": [
      "[[103   4]\n",
      " [  5  59]]\n",
      "              precision    recall  f1-score   support\n",
      "\n",
      "           2       0.95      0.96      0.96       107\n",
      "           4       0.94      0.92      0.93        64\n",
      "\n",
      "    accuracy                           0.95       171\n",
      "   macro avg       0.95      0.94      0.94       171\n",
      "weighted avg       0.95      0.95      0.95       171\n",
      "\n"
     ]
    }
   ],
   "source": [
    "knn_cm_test = confusion_matrix(y_test, knn_y_test_pred)\n",
    "knn_cr_test = classification_report(y_test, knn_y_test_pred)\n",
    "\n",
    "print(knn_cm_test)\n",
    "print(knn_cr_test)"
   ]
  },
  {
   "cell_type": "code",
   "execution_count": 72,
   "id": "6c62c241",
   "metadata": {},
   "outputs": [
    {
     "name": "stdout",
     "output_type": "stream",
     "text": [
      "Accuracy = 0.95; Precision = 0.95; Kappa = 0.89; MCC = 0.89; ROC AUC = 0.94\n",
      "Accuracy = 0.9473684210526315\n"
     ]
    }
   ],
   "source": [
    "knn_acc_test = accuracy_score(y_test, knn_y_test_pred)\n",
    "knn_prec_test = precision_score(y_test, knn_y_test_pred, pos_label = 2)\n",
    "knn_ck_test = cohen_kappa_score(y_test, knn_y_test_pred)\n",
    "knn_mcc_test = matthews_corrcoef(y_test, knn_y_test_pred)\n",
    "knn_roc_auc_test = roc_auc_score(y_test, knn_y_test_pred)\n",
    "\n",
    "print(f'Accuracy = {knn_acc_test:.2f}; Precision = {knn_prec_test:.2f}; Kappa = {knn_ck_test:.2f}; MCC = {knn_mcc_test:.2f}; ROC AUC = {knn_roc_auc_test:.2f}')\n",
    "print(f'Accuracy = {knn_acc_test}')"
   ]
  },
  {
   "cell_type": "markdown",
   "id": "3e01a08f",
   "metadata": {},
   "source": [
    "## Support vector machines"
   ]
  },
  {
   "cell_type": "markdown",
   "id": "8bea2427",
   "metadata": {},
   "source": [
    "### Create the model"
   ]
  },
  {
   "cell_type": "code",
   "execution_count": 21,
   "id": "e60a4da0",
   "metadata": {},
   "outputs": [],
   "source": [
    "from sklearn.svm import SVC\n",
    "svml_classifier = SVC(random_state = 0, kernel = 'linear', probability = True)"
   ]
  },
  {
   "cell_type": "markdown",
   "id": "2e989a10",
   "metadata": {},
   "source": [
    "### Training the model"
   ]
  },
  {
   "cell_type": "code",
   "execution_count": 22,
   "id": "87dc9aa5",
   "metadata": {},
   "outputs": [
    {
     "data": {
      "text/plain": [
       "SVC(kernel='linear', probability=True, random_state=0)"
      ]
     },
     "execution_count": 22,
     "metadata": {},
     "output_type": "execute_result"
    }
   ],
   "source": [
    "svml_classifier.fit(X_train_fs, y_train)"
   ]
  },
  {
   "cell_type": "markdown",
   "id": "bc0c3be9",
   "metadata": {},
   "source": [
    "### Applying the model on the train set"
   ]
  },
  {
   "cell_type": "code",
   "execution_count": 23,
   "id": "98371d23",
   "metadata": {},
   "outputs": [],
   "source": [
    "svml_y_train_pred = svml_classifier.predict(X_train_fs)\n",
    "svml_y_train_pred = svml_y_train_pred.reshape(len(svml_y_train_pred), 1)"
   ]
  },
  {
   "cell_type": "markdown",
   "id": "b457f6c8",
   "metadata": {},
   "source": [
    "### Evaluating the model performance on the train set"
   ]
  },
  {
   "cell_type": "code",
   "execution_count": 24,
   "id": "319b6825",
   "metadata": {},
   "outputs": [
    {
     "name": "stdout",
     "output_type": "stream",
     "text": [
      "[[330   7]\n",
      " [  3 172]]\n",
      "              precision    recall  f1-score   support\n",
      "\n",
      "           2       0.99      0.98      0.99       337\n",
      "           4       0.96      0.98      0.97       175\n",
      "\n",
      "    accuracy                           0.98       512\n",
      "   macro avg       0.98      0.98      0.98       512\n",
      "weighted avg       0.98      0.98      0.98       512\n",
      "\n"
     ]
    }
   ],
   "source": [
    "svml_cm_train = confusion_matrix(y_train, svml_y_train_pred)\n",
    "svml_cr_train = classification_report(y_train, svml_y_train_pred)\n",
    "\n",
    "print(svml_cm_train)\n",
    "print(svml_cr_train)"
   ]
  },
  {
   "cell_type": "code",
   "execution_count": 25,
   "id": "d1c80671",
   "metadata": {},
   "outputs": [
    {
     "name": "stdout",
     "output_type": "stream",
     "text": [
      "Accuracy = 0.98; Precision = 0.96; Kappa = 0.96; MCC = 0.96; ROC AUC = 0.98\n"
     ]
    }
   ],
   "source": [
    "svml_acc_train = accuracy_score(y_train, svml_y_train_pred)\n",
    "svml_prec_train = precision_score(y_train, svml_y_train_pred, pos_label = 4)\n",
    "svml_ck_train = cohen_kappa_score(y_train, svml_y_train_pred)\n",
    "svml_mcc_train = matthews_corrcoef(y_train, svml_y_train_pred)\n",
    "svml_roc_auc_train = roc_auc_score(y_train, svml_y_train_pred)\n",
    "\n",
    "print(f'Accuracy = {svml_acc_train:.2f}; Precision = {svml_prec_train:.2f}; Kappa = {svml_ck_train:.2f}; MCC = {svml_mcc_train:.2f}; ROC AUC = {svml_roc_auc_train:.2f}')"
   ]
  },
  {
   "cell_type": "markdown",
   "id": "2e66853e",
   "metadata": {},
   "source": [
    "### Applying the model on the test set"
   ]
  },
  {
   "cell_type": "code",
   "execution_count": 26,
   "id": "545fd3a2",
   "metadata": {},
   "outputs": [],
   "source": [
    "svml_y_test_pred = svml_classifier.predict(X_test_fs)\n",
    "svml_y_test_pred = svml_y_test_pred.reshape(len(svml_y_test_pred), 1)"
   ]
  },
  {
   "cell_type": "markdown",
   "id": "7ff99685",
   "metadata": {},
   "source": [
    "### Evaluating the model performance on the test set"
   ]
  },
  {
   "cell_type": "code",
   "execution_count": 27,
   "id": "0079be8e",
   "metadata": {},
   "outputs": [
    {
     "name": "stdout",
     "output_type": "stream",
     "text": [
      "[[102   5]\n",
      " [  5  59]]\n",
      "              precision    recall  f1-score   support\n",
      "\n",
      "           2       0.95      0.95      0.95       107\n",
      "           4       0.92      0.92      0.92        64\n",
      "\n",
      "    accuracy                           0.94       171\n",
      "   macro avg       0.94      0.94      0.94       171\n",
      "weighted avg       0.94      0.94      0.94       171\n",
      "\n"
     ]
    }
   ],
   "source": [
    "svml_cm_test = confusion_matrix(y_test, svml_y_test_pred)\n",
    "svml_cr_test = classification_report(y_test, svml_y_test_pred)\n",
    "\n",
    "print(svml_cm_test)\n",
    "print(svml_cr_test)"
   ]
  },
  {
   "cell_type": "code",
   "execution_count": 73,
   "id": "bb02846b",
   "metadata": {
    "scrolled": true
   },
   "outputs": [
    {
     "name": "stdout",
     "output_type": "stream",
     "text": [
      "Accuracy = 0.94; Precision = 0.95; Kappa = 0.88; MCC = 0.88; ROC AUC = 0.94\n",
      "Accuracy = 0.9415204678362573\n"
     ]
    }
   ],
   "source": [
    "svml_acc_test = accuracy_score(y_test, svml_y_test_pred)\n",
    "svml_prec_test = precision_score(y_test, svml_y_test_pred, pos_label = 2)\n",
    "svml_ck_test = cohen_kappa_score(y_test, svml_y_test_pred)\n",
    "svml_mcc_test = matthews_corrcoef(y_test, svml_y_test_pred)\n",
    "svml_roc_auc_test = roc_auc_score(y_test, svml_y_test_pred)\n",
    "\n",
    "print(f'Accuracy = {svml_acc_test:.2f}; Precision = {svml_prec_test:.2f}; Kappa = {svml_ck_test:.2f}; MCC = {svml_mcc_test:.2f}; ROC AUC = {svml_roc_auc_test:.2f}')\n",
    "print(f'Accuracy = {svml_acc_test}')"
   ]
  },
  {
   "cell_type": "markdown",
   "id": "a7ffa919",
   "metadata": {},
   "source": [
    "## Kernel Support Vector Machines"
   ]
  },
  {
   "cell_type": "markdown",
   "id": "41cf83fe",
   "metadata": {},
   "source": [
    "### Creating the model"
   ]
  },
  {
   "cell_type": "code",
   "execution_count": 29,
   "id": "6febbd44",
   "metadata": {},
   "outputs": [],
   "source": [
    "from sklearn.svm import SVC\n",
    "svmk_classifier = SVC(random_state = 0, probability = True)"
   ]
  },
  {
   "cell_type": "markdown",
   "id": "3c8e6698",
   "metadata": {},
   "source": [
    "### Training the model"
   ]
  },
  {
   "cell_type": "code",
   "execution_count": 30,
   "id": "5986d4a6",
   "metadata": {},
   "outputs": [
    {
     "data": {
      "text/plain": [
       "SVC(probability=True, random_state=0)"
      ]
     },
     "execution_count": 30,
     "metadata": {},
     "output_type": "execute_result"
    }
   ],
   "source": [
    "svmk_classifier.fit(X_train_fs, y_train)"
   ]
  },
  {
   "cell_type": "markdown",
   "id": "25b920a9",
   "metadata": {},
   "source": [
    "### Applying the model on the train test"
   ]
  },
  {
   "cell_type": "code",
   "execution_count": 31,
   "id": "883a681a",
   "metadata": {},
   "outputs": [],
   "source": [
    "svmk_y_train_pred = svmk_classifier.predict(X_train_fs)\n",
    "svmk_y_train_pred = svmk_y_train_pred.reshape(len(svmk_y_train_pred), 1)"
   ]
  },
  {
   "cell_type": "markdown",
   "id": "3c4f452a",
   "metadata": {},
   "source": [
    "### Evaluating the model performance on the train set"
   ]
  },
  {
   "cell_type": "code",
   "execution_count": 32,
   "id": "0b824ccd",
   "metadata": {},
   "outputs": [
    {
     "name": "stdout",
     "output_type": "stream",
     "text": [
      "[[330   7]\n",
      " [  4 171]]\n",
      "              precision    recall  f1-score   support\n",
      "\n",
      "           2       0.99      0.98      0.98       337\n",
      "           4       0.96      0.98      0.97       175\n",
      "\n",
      "    accuracy                           0.98       512\n",
      "   macro avg       0.97      0.98      0.98       512\n",
      "weighted avg       0.98      0.98      0.98       512\n",
      "\n"
     ]
    }
   ],
   "source": [
    "svmk_cm_train = confusion_matrix(y_train, svmk_y_train_pred)\n",
    "svmk_cr_train = classification_report(y_train, svmk_y_train_pred)\n",
    "\n",
    "print(svmk_cm_train)\n",
    "print(svmk_cr_train)"
   ]
  },
  {
   "cell_type": "code",
   "execution_count": 33,
   "id": "ab2a677f",
   "metadata": {},
   "outputs": [
    {
     "name": "stdout",
     "output_type": "stream",
     "text": [
      "Accuracy = 0.98; Precision = 0.99; Kappa = 0.95; MCC = 0.95; ROC AUC = 0.98\n"
     ]
    }
   ],
   "source": [
    "svmk_acc_train = accuracy_score(y_train, svmk_y_train_pred)\n",
    "svmk_prec_train = precision_score(y_train, svmk_y_train_pred, pos_label = 2)\n",
    "svmk_ck_train = cohen_kappa_score(y_train, svmk_y_train_pred)\n",
    "svmk_mcc_train = matthews_corrcoef(y_train, svmk_y_train_pred)\n",
    "svmk_roc_auc_train = roc_auc_score(y_train, svmk_y_train_pred)\n",
    "\n",
    "print(f'Accuracy = {svmk_acc_train:.2f}; Precision = {svmk_prec_train:.2f}; Kappa = {svmk_ck_train:.2f}; MCC = {svmk_mcc_train:.2f}; ROC AUC = {svmk_roc_auc_train:.2f}')"
   ]
  },
  {
   "cell_type": "markdown",
   "id": "199de333",
   "metadata": {},
   "source": [
    "### Applying the model on the test test"
   ]
  },
  {
   "cell_type": "code",
   "execution_count": 34,
   "id": "11a0d372",
   "metadata": {},
   "outputs": [],
   "source": [
    "svmk_y_test_pred = svmk_classifier.predict(X_test_fs)\n",
    "svmk_y_test_pred = svmk_y_test_pred.reshape(len(svmk_y_test_pred), 1)"
   ]
  },
  {
   "cell_type": "markdown",
   "id": "79731b6e",
   "metadata": {},
   "source": [
    "### Evaluating the model performance on the test set"
   ]
  },
  {
   "cell_type": "code",
   "execution_count": 35,
   "id": "77963fd9",
   "metadata": {},
   "outputs": [
    {
     "name": "stdout",
     "output_type": "stream",
     "text": [
      "[[102   5]\n",
      " [  3  61]]\n",
      "              precision    recall  f1-score   support\n",
      "\n",
      "           2       0.97      0.95      0.96       107\n",
      "           4       0.92      0.95      0.94        64\n",
      "\n",
      "    accuracy                           0.95       171\n",
      "   macro avg       0.95      0.95      0.95       171\n",
      "weighted avg       0.95      0.95      0.95       171\n",
      "\n"
     ]
    }
   ],
   "source": [
    "svmk_cm_test = confusion_matrix(y_test, svmk_y_test_pred)\n",
    "svmk_cr_test = classification_report(y_test, svmk_y_test_pred)\n",
    "\n",
    "print(svmk_cm_test)\n",
    "print(svmk_cr_test)"
   ]
  },
  {
   "cell_type": "code",
   "execution_count": 74,
   "id": "890ab924",
   "metadata": {},
   "outputs": [
    {
     "name": "stdout",
     "output_type": "stream",
     "text": [
      "Accuracy = 0.95; Precision = 0.97; Kappa = 0.90; MCC = 0.90; ROC AUC = 0.95\n",
      "Accuracy = 0.9532163742690059\n"
     ]
    }
   ],
   "source": [
    "svmk_acc_test = accuracy_score(y_test, svmk_y_test_pred)\n",
    "svmk_prec_test = precision_score(y_test, svmk_y_test_pred, pos_label = 2)\n",
    "svmk_ck_test = cohen_kappa_score(y_test, svmk_y_test_pred)\n",
    "svmk_mcc_test = matthews_corrcoef(y_test, svmk_y_test_pred)\n",
    "svmk_roc_auc_test = roc_auc_score(y_test, svmk_y_test_pred)\n",
    "\n",
    "print(f'Accuracy = {svmk_acc_test:.2f}; Precision = {svmk_prec_test:.2f}; Kappa = {svmk_ck_test:.2f}; MCC = {svmk_mcc_test:.2f}; ROC AUC = {svmk_roc_auc_test:.2f}')\n",
    "print(f'Accuracy = {svmk_acc_test}')"
   ]
  },
  {
   "cell_type": "markdown",
   "id": "553cf274",
   "metadata": {},
   "source": [
    "## Naive Bayes"
   ]
  },
  {
   "cell_type": "markdown",
   "id": "b77c7794",
   "metadata": {},
   "source": [
    "### Creating the model"
   ]
  },
  {
   "cell_type": "code",
   "execution_count": 37,
   "id": "ca25957e",
   "metadata": {},
   "outputs": [],
   "source": [
    "from sklearn.naive_bayes import GaussianNB\n",
    "nb_classifier = GaussianNB()"
   ]
  },
  {
   "cell_type": "markdown",
   "id": "633a8092",
   "metadata": {},
   "source": [
    "### Training the model"
   ]
  },
  {
   "cell_type": "code",
   "execution_count": 38,
   "id": "2391b2a0",
   "metadata": {},
   "outputs": [
    {
     "data": {
      "text/plain": [
       "GaussianNB()"
      ]
     },
     "execution_count": 38,
     "metadata": {},
     "output_type": "execute_result"
    }
   ],
   "source": [
    "nb_classifier.fit(X_train_fs, y_train)"
   ]
  },
  {
   "cell_type": "markdown",
   "id": "af3a45e4",
   "metadata": {},
   "source": [
    "### Applying the model on the train set"
   ]
  },
  {
   "cell_type": "code",
   "execution_count": 39,
   "id": "0c9b4c69",
   "metadata": {},
   "outputs": [],
   "source": [
    "nb_y_train_pred = nb_classifier.predict(X_train_fs)\n",
    "nb_y_train_pred = nb_y_train_pred.reshape(len(nb_y_train_pred), 1)"
   ]
  },
  {
   "cell_type": "markdown",
   "id": "214da202",
   "metadata": {},
   "source": [
    "### Evaluating the model performance on the train set"
   ]
  },
  {
   "cell_type": "code",
   "execution_count": 40,
   "id": "ad8fe714",
   "metadata": {},
   "outputs": [
    {
     "name": "stdout",
     "output_type": "stream",
     "text": [
      "[[324  13]\n",
      " [  3 172]]\n",
      "              precision    recall  f1-score   support\n",
      "\n",
      "           2       0.99      0.96      0.98       337\n",
      "           4       0.93      0.98      0.96       175\n",
      "\n",
      "    accuracy                           0.97       512\n",
      "   macro avg       0.96      0.97      0.97       512\n",
      "weighted avg       0.97      0.97      0.97       512\n",
      "\n"
     ]
    }
   ],
   "source": [
    "nb_cm_train = confusion_matrix(y_train, nb_y_train_pred)\n",
    "nb_cr_train = classification_report(y_train, nb_y_train_pred)\n",
    "\n",
    "print(nb_cm_train)\n",
    "print(nb_cr_train)"
   ]
  },
  {
   "cell_type": "code",
   "execution_count": 41,
   "id": "263502b2",
   "metadata": {},
   "outputs": [
    {
     "name": "stdout",
     "output_type": "stream",
     "text": [
      "Accuracy = 0.97; Precision = 0.99; Kappa = 0.93; MCC = 0.93; ROC AUC = 0.97\n"
     ]
    }
   ],
   "source": [
    "nb_acc_train = accuracy_score(y_train, nb_y_train_pred)\n",
    "nb_prec_train = precision_score(y_train, nb_y_train_pred, pos_label = 2)\n",
    "nb_ck_train = cohen_kappa_score(y_train, nb_y_train_pred)\n",
    "nb_mcc_train = matthews_corrcoef(y_train, nb_y_train_pred)\n",
    "nb_roc_auc_train = roc_auc_score(y_train, nb_y_train_pred)\n",
    "\n",
    "print(f'Accuracy = {nb_acc_train:.2f}; Precision = {nb_prec_train:.2f}; Kappa = {nb_ck_train:.2f}; MCC = {nb_mcc_train:.2f}; ROC AUC = {nb_roc_auc_train:.2f}')"
   ]
  },
  {
   "cell_type": "markdown",
   "id": "a2a8b8b0",
   "metadata": {},
   "source": [
    "### Applying the model on the test set"
   ]
  },
  {
   "cell_type": "code",
   "execution_count": 42,
   "id": "2ac482f8",
   "metadata": {},
   "outputs": [],
   "source": [
    "nb_y_test_pred = nb_classifier.predict(X_test_fs)\n",
    "nb_y_test_pred = nb_y_test_pred.reshape(len(nb_y_test_pred), 1)"
   ]
  },
  {
   "cell_type": "markdown",
   "id": "194b4631",
   "metadata": {},
   "source": [
    "### Evaluating the model performance on the test set"
   ]
  },
  {
   "cell_type": "code",
   "execution_count": 43,
   "id": "34af1c6b",
   "metadata": {},
   "outputs": [
    {
     "name": "stdout",
     "output_type": "stream",
     "text": [
      "[[99  8]\n",
      " [ 2 62]]\n",
      "              precision    recall  f1-score   support\n",
      "\n",
      "           2       0.98      0.93      0.95       107\n",
      "           4       0.89      0.97      0.93        64\n",
      "\n",
      "    accuracy                           0.94       171\n",
      "   macro avg       0.93      0.95      0.94       171\n",
      "weighted avg       0.94      0.94      0.94       171\n",
      "\n"
     ]
    }
   ],
   "source": [
    "nb_cm_test = confusion_matrix(y_test, nb_y_test_pred)\n",
    "nb_cr_test = classification_report(y_test, nb_y_test_pred)\n",
    "\n",
    "print(nb_cm_test)\n",
    "print(nb_cr_test)"
   ]
  },
  {
   "cell_type": "code",
   "execution_count": 75,
   "id": "4993aa81",
   "metadata": {},
   "outputs": [
    {
     "name": "stdout",
     "output_type": "stream",
     "text": [
      "Accuracy = 0.94; Precision = 0.98; Kappa = 0.88; MCC = 0.88; ROC AUC = 0.95\n",
      "Accuracy = 0.9415204678362573\n"
     ]
    }
   ],
   "source": [
    "nb_acc_test = accuracy_score(y_test, nb_y_test_pred)\n",
    "nb_prec_test = precision_score(y_test, nb_y_test_pred, pos_label = 2)\n",
    "nb_ck_test = cohen_kappa_score(y_test, nb_y_test_pred)\n",
    "nb_mcc_test = matthews_corrcoef(y_test, nb_y_test_pred)\n",
    "nb_roc_auc_test = roc_auc_score(y_test, nb_y_test_pred)\n",
    "\n",
    "print(f'Accuracy = {nb_acc_test:.2f}; Precision = {nb_prec_test:.2f}; Kappa = {nb_ck_test:.2f}; MCC = {nb_mcc_test:.2f}; ROC AUC = {nb_roc_auc_test:.2f}')\n",
    "print(f'Accuracy = {nb_acc_test}')"
   ]
  },
  {
   "cell_type": "markdown",
   "id": "ddcdf006",
   "metadata": {},
   "source": [
    "## Decision Tree"
   ]
  },
  {
   "cell_type": "markdown",
   "id": "fa9393e6",
   "metadata": {},
   "source": [
    "### Creating the model"
   ]
  },
  {
   "cell_type": "code",
   "execution_count": 45,
   "id": "b4aa6e33",
   "metadata": {},
   "outputs": [],
   "source": [
    "from sklearn.tree import DecisionTreeClassifier\n",
    "dt_classifier = DecisionTreeClassifier(random_state = 0, criterion = 'entropy')"
   ]
  },
  {
   "cell_type": "markdown",
   "id": "a2393ab8",
   "metadata": {},
   "source": [
    "### Training the model"
   ]
  },
  {
   "cell_type": "code",
   "execution_count": 47,
   "id": "d1c1f6fe",
   "metadata": {},
   "outputs": [
    {
     "data": {
      "text/plain": [
       "DecisionTreeClassifier(criterion='entropy', random_state=0)"
      ]
     },
     "execution_count": 47,
     "metadata": {},
     "output_type": "execute_result"
    }
   ],
   "source": [
    "dt_classifier.fit(X_train_fs, y_train)"
   ]
  },
  {
   "cell_type": "markdown",
   "id": "6e042f21",
   "metadata": {},
   "source": [
    "### Applying the model on the train set"
   ]
  },
  {
   "cell_type": "code",
   "execution_count": 48,
   "id": "868ade9c",
   "metadata": {},
   "outputs": [],
   "source": [
    "dt_y_train_pred = dt_classifier.predict(X_train_fs)\n",
    "dt_y_train_pred = dt_y_train_pred.reshape(len(dt_y_train_pred), 1)"
   ]
  },
  {
   "cell_type": "markdown",
   "id": "67d5fe18",
   "metadata": {},
   "source": [
    "### Evaluating the model performance on the train set"
   ]
  },
  {
   "cell_type": "code",
   "execution_count": 50,
   "id": "9fdc810f",
   "metadata": {},
   "outputs": [
    {
     "name": "stdout",
     "output_type": "stream",
     "text": [
      "[[337   0]\n",
      " [  0 175]]\n",
      "              precision    recall  f1-score   support\n",
      "\n",
      "           2       1.00      1.00      1.00       337\n",
      "           4       1.00      1.00      1.00       175\n",
      "\n",
      "    accuracy                           1.00       512\n",
      "   macro avg       1.00      1.00      1.00       512\n",
      "weighted avg       1.00      1.00      1.00       512\n",
      "\n"
     ]
    }
   ],
   "source": [
    "dt_cm_train = confusion_matrix(y_train, dt_y_train_pred)\n",
    "dt_cr_train = classification_report(y_train, dt_y_train_pred)\n",
    "\n",
    "print(dt_cm_train)\n",
    "print(dt_cr_train)"
   ]
  },
  {
   "cell_type": "code",
   "execution_count": 52,
   "id": "92bb9dd8",
   "metadata": {},
   "outputs": [
    {
     "name": "stdout",
     "output_type": "stream",
     "text": [
      "Accuracy = 1.00; Precision = 1.00; Kappa = 1.00; MCC = 1.00; ROC AUC = 1.00\n"
     ]
    }
   ],
   "source": [
    "dt_acc_train = accuracy_score(y_train, dt_y_train_pred)\n",
    "dt_prec_train = precision_score(y_train, dt_y_train_pred, pos_label = 2)\n",
    "dt_ck_train = cohen_kappa_score(y_train, dt_y_train_pred)\n",
    "dt_mcc_train = matthews_corrcoef(y_train, dt_y_train_pred)\n",
    "dt_roc_auc_train = roc_auc_score(y_train, dt_y_train_pred)\n",
    "\n",
    "print(f'Accuracy = {dt_acc_train:.2f}; Precision = {dt_prec_train:.2f}; Kappa = {dt_ck_train:.2f}; MCC = {dt_mcc_train:.2f}; ROC AUC = {dt_roc_auc_train:.2f}')"
   ]
  },
  {
   "cell_type": "markdown",
   "id": "e666a534",
   "metadata": {},
   "source": [
    "### Applying the model on the test set"
   ]
  },
  {
   "cell_type": "code",
   "execution_count": 53,
   "id": "97f645f1",
   "metadata": {},
   "outputs": [],
   "source": [
    "dt_y_test_pred = dt_classifier.predict(X_test_fs)\n",
    "dt_y_test_pred = dt_y_test_pred.reshape(len(dt_y_test_pred), 1)"
   ]
  },
  {
   "cell_type": "markdown",
   "id": "095293a6",
   "metadata": {},
   "source": [
    "### Evaluating the model performance on the test set"
   ]
  },
  {
   "cell_type": "code",
   "execution_count": 55,
   "id": "2f9c2755",
   "metadata": {},
   "outputs": [
    {
     "name": "stdout",
     "output_type": "stream",
     "text": [
      "[[103   4]\n",
      " [  3  61]]\n",
      "              precision    recall  f1-score   support\n",
      "\n",
      "           2       0.97      0.96      0.97       107\n",
      "           4       0.94      0.95      0.95        64\n",
      "\n",
      "    accuracy                           0.96       171\n",
      "   macro avg       0.96      0.96      0.96       171\n",
      "weighted avg       0.96      0.96      0.96       171\n",
      "\n"
     ]
    }
   ],
   "source": [
    "dt_cm_test = confusion_matrix(y_test, dt_y_test_pred)\n",
    "dt_cr_test = classification_report(y_test, dt_y_test_pred)\n",
    "\n",
    "print(dt_cm_test)\n",
    "print(dt_cr_test)"
   ]
  },
  {
   "cell_type": "code",
   "execution_count": 76,
   "id": "45225e6e",
   "metadata": {},
   "outputs": [
    {
     "name": "stdout",
     "output_type": "stream",
     "text": [
      "Accuracy = 0.96; Precision = 0.97; Kappa = 0.91; MCC = 0.91; ROC AUC = 0.96\n",
      "Accuracy = 0.9590643274853801\n"
     ]
    }
   ],
   "source": [
    "dt_acc_test = accuracy_score(y_test, dt_y_test_pred)\n",
    "dt_prec_test = precision_score(y_test, dt_y_test_pred, pos_label = 2)\n",
    "dt_ck_test = cohen_kappa_score(y_test, dt_y_test_pred)\n",
    "dt_mcc_test = matthews_corrcoef(y_test, dt_y_test_pred)\n",
    "dt_roc_auc_test = roc_auc_score(y_test, dt_y_test_pred)\n",
    "\n",
    "print(f'Accuracy = {dt_acc_test:.2f}; Precision = {dt_prec_test:.2f}; Kappa = {dt_ck_test:.2f}; MCC = {dt_mcc_test:.2f}; ROC AUC = {dt_roc_auc_test:.2f}')\n",
    "print(f'Accuracy = {dt_acc_test}')"
   ]
  },
  {
   "cell_type": "markdown",
   "id": "f4389df6",
   "metadata": {},
   "source": [
    "## Random forest"
   ]
  },
  {
   "cell_type": "markdown",
   "id": "c8af10b4",
   "metadata": {},
   "source": [
    "### Creating the model"
   ]
  },
  {
   "cell_type": "code",
   "execution_count": 58,
   "id": "1fea9d0e",
   "metadata": {},
   "outputs": [],
   "source": [
    "from sklearn.ensemble import RandomForestClassifier\n",
    "rf_classifier = RandomForestClassifier(random_state = 0, criterion = 'entropy', n_estimators = 10)"
   ]
  },
  {
   "cell_type": "markdown",
   "id": "02c4c952",
   "metadata": {},
   "source": [
    "### Training the model"
   ]
  },
  {
   "cell_type": "code",
   "execution_count": 59,
   "id": "a9b297f5",
   "metadata": {},
   "outputs": [
    {
     "data": {
      "text/plain": [
       "RandomForestClassifier(criterion='entropy', n_estimators=10, random_state=0)"
      ]
     },
     "execution_count": 59,
     "metadata": {},
     "output_type": "execute_result"
    }
   ],
   "source": [
    "rf_classifier.fit(X_train_fs, y_train)"
   ]
  },
  {
   "cell_type": "markdown",
   "id": "ca3f1fdb",
   "metadata": {},
   "source": [
    "### Applying the model on the train set"
   ]
  },
  {
   "cell_type": "code",
   "execution_count": 62,
   "id": "3d0121e1",
   "metadata": {},
   "outputs": [],
   "source": [
    "rf_y_train_pred = rf_classifier.predict(X_train_fs)\n",
    "rf_y_train_pred = rf_y_train_pred.reshape(len(rf_y_train_pred), 1)"
   ]
  },
  {
   "cell_type": "markdown",
   "id": "2def5fd9",
   "metadata": {},
   "source": [
    "### Evaluating the model performance on the train set"
   ]
  },
  {
   "cell_type": "code",
   "execution_count": 63,
   "id": "84323358",
   "metadata": {},
   "outputs": [
    {
     "name": "stdout",
     "output_type": "stream",
     "text": [
      "[[336   1]\n",
      " [  1 174]]\n",
      "              precision    recall  f1-score   support\n",
      "\n",
      "           2       1.00      1.00      1.00       337\n",
      "           4       0.99      0.99      0.99       175\n",
      "\n",
      "    accuracy                           1.00       512\n",
      "   macro avg       1.00      1.00      1.00       512\n",
      "weighted avg       1.00      1.00      1.00       512\n",
      "\n"
     ]
    }
   ],
   "source": [
    "rf_cm_train = confusion_matrix(y_train, rf_y_train_pred)\n",
    "rf_cr_train = classification_report(y_train, rf_y_train_pred)\n",
    "\n",
    "print(rf_cm_train)\n",
    "print(rf_cr_train)"
   ]
  },
  {
   "cell_type": "code",
   "execution_count": 66,
   "id": "60a7541e",
   "metadata": {},
   "outputs": [
    {
     "name": "stdout",
     "output_type": "stream",
     "text": [
      "Accuracy = 1.00; Precision = 1.00; Kappa = 0.99; MCC = 0.99; ROC AUC = 1.00\n"
     ]
    }
   ],
   "source": [
    "rf_acc_train = accuracy_score(y_train, rf_y_train_pred)\n",
    "rf_prec_train = precision_score(y_train, rf_y_train_pred, pos_label = 2)\n",
    "rf_ck_train = cohen_kappa_score(y_train, rf_y_train_pred)\n",
    "rf_mcc_train = matthews_corrcoef(y_train, rf_y_train_pred)\n",
    "rf_roc_auc_train = roc_auc_score(y_train, rf_y_train_pred)\n",
    "\n",
    "print(f'Accuracy = {rf_acc_train:.2f}; Precision = {rf_prec_train:.2f}; Kappa = {rf_ck_train:.2f}; MCC = {rf_mcc_train:.2f}; ROC AUC = {rf_roc_auc_train:.2f}')"
   ]
  },
  {
   "cell_type": "markdown",
   "id": "45c2ea65",
   "metadata": {},
   "source": [
    "### Applying the model on the test set"
   ]
  },
  {
   "cell_type": "code",
   "execution_count": 68,
   "id": "0e31436a",
   "metadata": {},
   "outputs": [],
   "source": [
    "rf_y_test_pred = rf_classifier.predict(X_test_fs)\n",
    "rf_y_test_pred = rf_y_test_pred.reshape(len(rf_y_test_pred), 1)"
   ]
  },
  {
   "cell_type": "markdown",
   "id": "34d6a761",
   "metadata": {},
   "source": [
    "### Evaluating the model performance on the test set"
   ]
  },
  {
   "cell_type": "code",
   "execution_count": 69,
   "id": "371a20f0",
   "metadata": {},
   "outputs": [
    {
     "name": "stdout",
     "output_type": "stream",
     "text": [
      "[[102   5]\n",
      " [  6  58]]\n",
      "              precision    recall  f1-score   support\n",
      "\n",
      "           2       0.94      0.95      0.95       107\n",
      "           4       0.92      0.91      0.91        64\n",
      "\n",
      "    accuracy                           0.94       171\n",
      "   macro avg       0.93      0.93      0.93       171\n",
      "weighted avg       0.94      0.94      0.94       171\n",
      "\n"
     ]
    }
   ],
   "source": [
    "rf_cm_test = confusion_matrix(y_test, rf_y_test_pred)\n",
    "rf_cr_test = classification_report(y_test, rf_y_test_pred)\n",
    "\n",
    "print(rf_cm_test)\n",
    "print(rf_cr_test)"
   ]
  },
  {
   "cell_type": "code",
   "execution_count": 77,
   "id": "c1f7f45a",
   "metadata": {},
   "outputs": [
    {
     "name": "stdout",
     "output_type": "stream",
     "text": [
      "Accuracy = 0.94; Precision = 0.94; Kappa = 0.86; MCC = 0.86; ROC AUC = 0.93\n",
      "Accuracy = 0.935672514619883\n"
     ]
    }
   ],
   "source": [
    "rf_acc_test = accuracy_score(y_test, rf_y_test_pred)\n",
    "rf_prec_test = precision_score(y_test, rf_y_test_pred, pos_label = 2)\n",
    "rf_ck_test = cohen_kappa_score(y_test, rf_y_test_pred)\n",
    "rf_mcc_test = matthews_corrcoef(y_test, rf_y_test_pred)\n",
    "rf_roc_auc_test = roc_auc_score(y_test, rf_y_test_pred)\n",
    "\n",
    "print(f'Accuracy = {rf_acc_test:.2f}; Precision = {rf_prec_test:.2f}; Kappa = {rf_ck_test:.2f}; MCC = {rf_mcc_test:.2f}; ROC AUC = {rf_roc_auc_test:.2f}')\n",
    "print(f'Accuracy = {rf_acc_test}')"
   ]
  }
 ],
 "metadata": {
  "kernelspec": {
   "display_name": "Python 3 (ipykernel)",
   "language": "python",
   "name": "python3"
  },
  "language_info": {
   "codemirror_mode": {
    "name": "ipython",
    "version": 3
   },
   "file_extension": ".py",
   "mimetype": "text/x-python",
   "name": "python",
   "nbconvert_exporter": "python",
   "pygments_lexer": "ipython3",
   "version": "3.9.7"
  }
 },
 "nbformat": 4,
 "nbformat_minor": 5
}
