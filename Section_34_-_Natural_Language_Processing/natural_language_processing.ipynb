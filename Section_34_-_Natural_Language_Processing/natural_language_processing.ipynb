{
 "cells": [
  {
   "cell_type": "markdown",
   "id": "d369b1e7",
   "metadata": {},
   "source": [
    "# Natural Language Processing"
   ]
  },
  {
   "cell_type": "markdown",
   "id": "481a8365",
   "metadata": {},
   "source": [
    "## Importing the libraries"
   ]
  },
  {
   "cell_type": "code",
   "execution_count": 1,
   "id": "d457fff4",
   "metadata": {},
   "outputs": [],
   "source": [
    "import numpy as np\n",
    "import matplotlib.pyplot as plt\n",
    "import pandas as pd"
   ]
  },
  {
   "cell_type": "markdown",
   "id": "f11639b8",
   "metadata": {},
   "source": [
    "## Importing the dataset"
   ]
  },
  {
   "cell_type": "code",
   "execution_count": 2,
   "id": "917483cb",
   "metadata": {},
   "outputs": [],
   "source": [
    "dataset = pd.read_csv('Restaurant_Reviews.tsv', sep = '\\t', quoting = 3)"
   ]
  },
  {
   "cell_type": "markdown",
   "id": "2459abe8",
   "metadata": {},
   "source": [
    "## Cleaning the text"
   ]
  },
  {
   "cell_type": "code",
   "execution_count": 3,
   "id": "c0ffd35d",
   "metadata": {},
   "outputs": [
    {
     "name": "stderr",
     "output_type": "stream",
     "text": [
      "[nltk_data] Downloading package stopwords to\n",
      "[nltk_data]     C:\\Users\\Oggy\\AppData\\Roaming\\nltk_data...\n",
      "[nltk_data]   Package stopwords is already up-to-date!\n"
     ]
    }
   ],
   "source": [
    "import re\n",
    "import nltk\n",
    "t = nltk.download('stopwords')\n",
    "from nltk.corpus import stopwords\n",
    "from nltk.stem.porter import PorterStemmer\n",
    "\n",
    "# This is line is moved here to prevent creating of many new instances of PorterStreamer object\n",
    "ps = PorterStemmer()\n",
    "\n",
    "filtered_stopwords = stopwords.words('english')\n",
    "filtered_stopwords.remove('not')\n",
    "\n",
    "corpus = []\n",
    "for i in range(0, 1000):\n",
    "    # review = re.sub('[^a-zA-Z]', ' ', dataset.iloc[i][0])\n",
    "    review = re.sub('[^a-zA-Z]', ' ', dataset['Review'][i])\n",
    "    review = review.lower()\n",
    "    review = review.split()\n",
    "    # ps = PorterStemmer() - this was moved outside of the loop\n",
    "    \n",
    "    # Mine approach\n",
    "    stemmed_review = []\n",
    "    for word in review:\n",
    "        if not word in set(filtered_stopwords):\n",
    "            word = ps.stem(word)\n",
    "            stemmed_review.append(word)\n",
    "    review = ' '.join(stemmed_review)\n",
    "    \n",
    "    corpus.append(review)\n",
    "    \n",
    "    # Lector's approach - Very bad readability\n",
    "    # review = [ps.stem(word) for word in review if not word in set(stopwords.words('english'))]\n",
    "    # review = ' '.join(review)\n",
    "    # print(review)"
   ]
  },
  {
   "cell_type": "markdown",
   "id": "be1540ca",
   "metadata": {},
   "source": [
    "## Creating a Bag of words model"
   ]
  },
  {
   "cell_type": "code",
   "execution_count": 4,
   "id": "70979bc2",
   "metadata": {},
   "outputs": [
    {
     "name": "stdout",
     "output_type": "stream",
     "text": [
      "(1000, 1500)\n"
     ]
    }
   ],
   "source": [
    "from sklearn.feature_extraction.text import CountVectorizer\n",
    "cv = CountVectorizer(max_features = 1500)\n",
    "X = cv.fit_transform(corpus).toarray()\n",
    "print(X.shape)\n",
    "\n",
    "# y = dataset.iloc[:, 1] - I will use the other option\n",
    "y = dataset['Liked']"
   ]
  },
  {
   "cell_type": "markdown",
   "id": "412e9266",
   "metadata": {},
   "source": [
    "## Splitting the dataset"
   ]
  },
  {
   "cell_type": "code",
   "execution_count": 9,
   "id": "ff1feb2f",
   "metadata": {},
   "outputs": [],
   "source": [
    "from sklearn.model_selection import train_test_split\n",
    "X_train, X_test, y_train, y_test = train_test_split(X, y, random_state = 0, test_size = 0.2)"
   ]
  },
  {
   "cell_type": "markdown",
   "id": "a8b8f0e7",
   "metadata": {},
   "source": [
    "## Training a Naive Bayes model on the training set"
   ]
  },
  {
   "cell_type": "code",
   "execution_count": 10,
   "id": "6c6d49aa",
   "metadata": {},
   "outputs": [
    {
     "data": {
      "text/plain": [
       "GaussianNB()"
      ]
     },
     "execution_count": 10,
     "metadata": {},
     "output_type": "execute_result"
    }
   ],
   "source": [
    "from sklearn.naive_bayes import GaussianNB\n",
    "classifier = GaussianNB()\n",
    "classifier.fit(X_train, y_train)"
   ]
  },
  {
   "cell_type": "markdown",
   "id": "9bbca346",
   "metadata": {},
   "source": [
    "## Applying the model on the testing set"
   ]
  },
  {
   "cell_type": "code",
   "execution_count": 11,
   "id": "b91edeb6",
   "metadata": {},
   "outputs": [],
   "source": [
    "y_test_pred = classifier.predict(X_test)"
   ]
  },
  {
   "cell_type": "markdown",
   "id": "a9d7e635",
   "metadata": {},
   "source": [
    "## Displaying the confusuion matrix and model statistics"
   ]
  },
  {
   "cell_type": "code",
   "execution_count": 12,
   "id": "60d208c0",
   "metadata": {},
   "outputs": [
    {
     "name": "stdout",
     "output_type": "stream",
     "text": [
      "[[55 42]\n",
      " [12 91]]\n",
      "              precision    recall  f1-score   support\n",
      "\n",
      "           0       0.82      0.57      0.67        97\n",
      "           1       0.68      0.88      0.77       103\n",
      "\n",
      "    accuracy                           0.73       200\n",
      "   macro avg       0.75      0.73      0.72       200\n",
      "weighted avg       0.75      0.73      0.72       200\n",
      "\n",
      "Accuracy = 0.73; Precision = 0.68; Kappa = 0.45; MCC = 0.48; ROC AUC = 0.73\n"
     ]
    }
   ],
   "source": [
    "from sklearn.metrics import confusion_matrix, classification_report\n",
    "from sklearn.metrics import accuracy_score, precision_score, matthews_corrcoef, cohen_kappa_score, roc_auc_score\n",
    "\n",
    "cm_test = confusion_matrix(y_test, y_test_pred)\n",
    "cr_test = classification_report(y_test, y_test_pred)\n",
    "print(cm_test)\n",
    "print(cr_test)\n",
    "\n",
    "acc_test = accuracy_score(y_test, y_test_pred)\n",
    "prec_test = precision_score(y_test, y_test_pred)\n",
    "ck_test = cohen_kappa_score(y_test, y_test_pred)\n",
    "mcc_test = matthews_corrcoef(y_test, y_test_pred)\n",
    "roc_auc_test = roc_auc_score(y_test, y_test_pred)\n",
    "print(f'Accuracy = {acc_test:.2f}; Precision = {prec_test:.2f}; Kappa = {ck_test:.2f}; MCC = {mcc_test:.2f}; ROC AUC = {roc_auc_test:.2f}')"
   ]
  },
  {
   "cell_type": "code",
   "execution_count": null,
   "id": "38a62d12",
   "metadata": {},
   "outputs": [],
   "source": []
  }
 ],
 "metadata": {
  "kernelspec": {
   "display_name": "Python 3 (ipykernel)",
   "language": "python",
   "name": "python3"
  },
  "language_info": {
   "codemirror_mode": {
    "name": "ipython",
    "version": 3
   },
   "file_extension": ".py",
   "mimetype": "text/x-python",
   "name": "python",
   "nbconvert_exporter": "python",
   "pygments_lexer": "ipython3",
   "version": "3.9.7"
  }
 },
 "nbformat": 4,
 "nbformat_minor": 5
}
